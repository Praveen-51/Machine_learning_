{
 "cells": [
  {
   "cell_type": "code",
   "execution_count": null,
   "id": "c393764e",
   "metadata": {},
   "outputs": [],
   "source": [
    "# pip install pandas"
   ]
  },
  {
   "cell_type": "code",
   "execution_count": null,
   "id": "0f1627ef",
   "metadata": {},
   "outputs": [],
   "source": [
    "import pandas as pd\n",
    "import numpy as np  # we actually define all the libraries so that we neednt call them in between"
   ]
  },
  {
   "cell_type": "code",
   "execution_count": null,
   "id": "f7971851",
   "metadata": {},
   "outputs": [],
   "source": [
    "#pandas series----- like 1D array"
   ]
  },
  {
   "cell_type": "code",
   "execution_count": null,
   "id": "74c75a4b",
   "metadata": {},
   "outputs": [],
   "source": [
    "df=pd.Series([1,3,5,7,9,11,13])"
   ]
  },
  {
   "cell_type": "code",
   "execution_count": null,
   "id": "f4b29bef",
   "metadata": {},
   "outputs": [],
   "source": [
    "print(df)# the left most column of numbers give the indexes"
   ]
  },
  {
   "cell_type": "code",
   "execution_count": null,
   "id": "c24482be",
   "metadata": {},
   "outputs": [],
   "source": [
    "type(df) # dtype is datatype"
   ]
  },
  {
   "cell_type": "code",
   "execution_count": null,
   "id": "e4753b2e",
   "metadata": {},
   "outputs": [],
   "source": [
    "df.shape"
   ]
  },
  {
   "cell_type": "code",
   "execution_count": null,
   "id": "780fe20d",
   "metadata": {},
   "outputs": [],
   "source": [
    "df.head() # the number inside the head() gives the first n numbers of the Series defaultly 5"
   ]
  },
  {
   "cell_type": "code",
   "execution_count": null,
   "id": "9ffee1ef",
   "metadata": {},
   "outputs": [],
   "source": [
    "df.tail() # the number inside tail() gives the last n numbers in the series"
   ]
  },
  {
   "cell_type": "code",
   "execution_count": null,
   "id": "92886ebd",
   "metadata": {},
   "outputs": [],
   "source": [
    "#Pandas dataframe-- 2D array like. has rows and column\n",
    "data=np.arange(0,20).reshape(5,4)\n",
    "df=pd.DataFrame(data,index=['Row1','Row2','Row3','Row4','Row5'],columns=['Column1','Column2','Column3','Column4'])"
   ]
  },
  {
   "cell_type": "code",
   "execution_count": null,
   "id": "762063f2",
   "metadata": {},
   "outputs": [],
   "source": [
    "type(df)"
   ]
  },
  {
   "cell_type": "code",
   "execution_count": null,
   "id": "bc7b21c8",
   "metadata": {},
   "outputs": [],
   "source": [
    "df"
   ]
  },
  {
   "cell_type": "code",
   "execution_count": null,
   "id": "9f7c3d81",
   "metadata": {},
   "outputs": [],
   "source": [
    "df.head(2)"
   ]
  },
  {
   "cell_type": "code",
   "execution_count": null,
   "id": "79899686",
   "metadata": {},
   "outputs": [],
   "source": [
    "df.tail(2)"
   ]
  },
  {
   "cell_type": "code",
   "execution_count": null,
   "id": "90bc0e7a",
   "metadata": {},
   "outputs": [],
   "source": [
    "df.loc['Row1'] #accessing rows only"
   ]
  },
  {
   "cell_type": "code",
   "execution_count": null,
   "id": "8a92be9e",
   "metadata": {},
   "outputs": [],
   "source": [
    "type(df.loc['Row2'])"
   ]
  },
  {
   "cell_type": "code",
   "execution_count": null,
   "id": "22a8403b",
   "metadata": {},
   "outputs": [],
   "source": [
    "type(df)"
   ]
  },
  {
   "cell_type": "code",
   "execution_count": null,
   "id": "6ca8b7eb",
   "metadata": {},
   "outputs": [],
   "source": [
    "df.iloc[:,:] # to acesss rows and columns. actually indexing is the procedure behind it"
   ]
  },
  {
   "cell_type": "code",
   "execution_count": null,
   "id": "e49fe720",
   "metadata": {},
   "outputs": [],
   "source": [
    "df.iloc[0:3,0:2]"
   ]
  },
  {
   "cell_type": "code",
   "execution_count": null,
   "id": "e905387a",
   "metadata": {},
   "outputs": [],
   "source": [
    "df.iloc[2:,2:]"
   ]
  },
  {
   "cell_type": "code",
   "execution_count": null,
   "id": "5df922d0",
   "metadata": {},
   "outputs": [],
   "source": [
    "df.loc[['Row1','Row2','Row3']]"
   ]
  },
  {
   "cell_type": "code",
   "execution_count": null,
   "id": "2bbf2ca4",
   "metadata": {},
   "outputs": [],
   "source": [
    "df"
   ]
  },
  {
   "cell_type": "code",
   "execution_count": null,
   "id": "37fb8263",
   "metadata": {},
   "outputs": [],
   "source": [
    "df['Column1']"
   ]
  },
  {
   "cell_type": "code",
   "execution_count": null,
   "id": "b3b72af6",
   "metadata": {},
   "outputs": [],
   "source": [
    "type(df['Column1'])"
   ]
  },
  {
   "cell_type": "code",
   "execution_count": null,
   "id": "0f83ea4f",
   "metadata": {},
   "outputs": [],
   "source": [
    "df[['Column1','Column2']]"
   ]
  },
  {
   "cell_type": "code",
   "execution_count": null,
   "id": "995fd539",
   "metadata": {},
   "outputs": [],
   "source": [
    "type(df[['Column1','Column2']])"
   ]
  },
  {
   "cell_type": "code",
   "execution_count": null,
   "id": "654cdeaf",
   "metadata": {},
   "outputs": [],
   "source": [
    "# Pandas Dataframe using dictionary\n",
    "\n",
    "data={\n",
    "    'Calories':[420,380,390,450],\n",
    "     \n",
    "    'Duration':[50,40,45,55]\n",
    "}\n",
    "\n",
    "df=pd.DataFrame(data)"
   ]
  },
  {
   "cell_type": "code",
   "execution_count": null,
   "id": "e60b80a2",
   "metadata": {},
   "outputs": [],
   "source": [
    "df"
   ]
  },
  {
   "cell_type": "code",
   "execution_count": null,
   "id": "ee9d38ca",
   "metadata": {},
   "outputs": [],
   "source": [
    "df.iloc[2]"
   ]
  },
  {
   "cell_type": "code",
   "execution_count": null,
   "id": "7d6bcc55",
   "metadata": {
    "scrolled": true
   },
   "outputs": [],
   "source": [
    "df['Calories']"
   ]
  },
  {
   "cell_type": "code",
   "execution_count": null,
   "id": "bdec3985",
   "metadata": {},
   "outputs": [],
   "source": [
    "\n",
    "\n",
    "\n",
    "\n",
    "\n",
    "\n",
    "\n",
    "\n"
   ]
  },
  {
   "cell_type": "code",
   "execution_count": null,
   "id": "6362fe9c",
   "metadata": {},
   "outputs": [],
   "source": [
    "#Pandas Dataframe using csv\n",
    "df=pd.read_csv(\"Data/supermarket_sales.csv\") # inside the () give the file path, it will read the file give an r just after opening the bracket"
   ]
  },
  {
   "cell_type": "code",
   "execution_count": null,
   "id": "b8d603fe",
   "metadata": {},
   "outputs": [],
   "source": [
    "df"
   ]
  },
  {
   "cell_type": "code",
   "execution_count": null,
   "id": "77ca3f19",
   "metadata": {},
   "outputs": [],
   "source": [
    "df.head(5)"
   ]
  },
  {
   "cell_type": "code",
   "execution_count": null,
   "id": "f46430f1",
   "metadata": {},
   "outputs": [],
   "source": [
    "df.tail(6)"
   ]
  },
  {
   "cell_type": "code",
   "execution_count": null,
   "id": "93a80adc",
   "metadata": {},
   "outputs": [],
   "source": [
    "df.index"
   ]
  },
  {
   "cell_type": "code",
   "execution_count": null,
   "id": "670e3b94",
   "metadata": {},
   "outputs": [],
   "source": [
    "df.loc[2]"
   ]
  },
  {
   "cell_type": "code",
   "execution_count": null,
   "id": "a8bc16b4",
   "metadata": {},
   "outputs": [],
   "source": [
    "df.shape"
   ]
  },
  {
   "cell_type": "code",
   "execution_count": null,
   "id": "2e6ed13c",
   "metadata": {},
   "outputs": [],
   "source": [
    "df['Branch']"
   ]
  },
  {
   "cell_type": "code",
   "execution_count": null,
   "id": "ac3826ab",
   "metadata": {},
   "outputs": [],
   "source": [
    "df.columns"
   ]
  },
  {
   "cell_type": "code",
   "execution_count": null,
   "id": "16398b85",
   "metadata": {},
   "outputs": [],
   "source": [
    "df.dtypes"
   ]
  },
  {
   "cell_type": "code",
   "execution_count": null,
   "id": "aea82367",
   "metadata": {},
   "outputs": [],
   "source": [
    "df.size"
   ]
  },
  {
   "cell_type": "code",
   "execution_count": null,
   "id": "8354fad3",
   "metadata": {},
   "outputs": [],
   "source": [
    "df.describe #describe function will give us the summary of dataframe (only numerical features)"
   ]
  },
  {
   "cell_type": "code",
   "execution_count": null,
   "id": "c78b1663",
   "metadata": {},
   "outputs": [],
   "source": [
    "df.describe(include='O') # Summary of Object columns"
   ]
  },
  {
   "cell_type": "code",
   "execution_count": null,
   "id": "c6f14db7",
   "metadata": {},
   "outputs": [],
   "source": [
    "df.describe(include='all') #display description for every features"
   ]
  },
  {
   "cell_type": "code",
   "execution_count": null,
   "id": "fd8b5d3b",
   "metadata": {
    "scrolled": true
   },
   "outputs": [],
   "source": [
    "#checking for the missing value information \n",
    "df.isna().sum() #is not available function\n",
    "\n",
    "#There are no missing value in the present data set"
   ]
  },
  {
   "cell_type": "code",
   "execution_count": null,
   "id": "634c1018",
   "metadata": {},
   "outputs": [],
   "source": [
    "\n",
    "\n",
    "\n",
    "\n",
    "\n",
    "\n",
    "\n",
    "\n",
    "\n",
    "\n",
    "\n"
   ]
  },
  {
   "cell_type": "code",
   "execution_count": null,
   "id": "a8169241",
   "metadata": {},
   "outputs": [],
   "source": [
    "import pandas as pd\n",
    "df_new=pd.read_csv(r'Data/abcd.csv')   # all operation such as describe(), head(), tail(), size(), shape(),etc can be worked on"
   ]
  },
  {
   "cell_type": "code",
   "execution_count": null,
   "id": "e67b74f4",
   "metadata": {},
   "outputs": [],
   "source": [
    "df_new"
   ]
  },
  {
   "cell_type": "code",
   "execution_count": null,
   "id": "04644d7f",
   "metadata": {},
   "outputs": [],
   "source": [
    "df_new.isna()"
   ]
  },
  {
   "cell_type": "code",
   "execution_count": null,
   "id": "f4ba0cf1",
   "metadata": {},
   "outputs": [],
   "source": [
    "df_new.isna().sum() \n",
    "\n",
    "# if any null values number of null for the corresponding one will be displayed else 0 will be displayed\n",
    "\n",
    "#isna(),isnull(),isnan()"
   ]
  },
  {
   "cell_type": "code",
   "execution_count": null,
   "id": "f3fd8d72",
   "metadata": {},
   "outputs": [],
   "source": [
    "df_new[['Branch','Gender','Customer type']]"
   ]
  },
  {
   "cell_type": "code",
   "execution_count": null,
   "id": "a832db86",
   "metadata": {},
   "outputs": [],
   "source": [
    "#drop-removes the required column or row\n",
    "\n",
    "df_new.drop('Gender',axis=1)  # for columns removal give the column name followed by the axis=1\n",
    "\n",
    "#since defaultly axis=0 while removing row no need to give axis"
   ]
  },
  {
   "cell_type": "code",
   "execution_count": null,
   "id": "19769f76",
   "metadata": {},
   "outputs": [],
   "source": [
    "df_new.drop(['Gender','Invoice ID'],axis=1) #mulitple column removal.\n",
    "\n",
    "# it will be permanently deleted if saved in a variable"
   ]
  },
  {
   "cell_type": "code",
   "execution_count": null,
   "id": "c51c8749",
   "metadata": {},
   "outputs": [],
   "source": [
    "updatedf_new=df_new.drop('Gender',axis=1)"
   ]
  },
  {
   "cell_type": "code",
   "execution_count": null,
   "id": "57691330",
   "metadata": {},
   "outputs": [],
   "source": [
    "df_new"
   ]
  },
  {
   "cell_type": "code",
   "execution_count": null,
   "id": "0bf3dda7",
   "metadata": {},
   "outputs": [],
   "source": [
    "updatedf_new"
   ]
  },
  {
   "cell_type": "code",
   "execution_count": null,
   "id": "5ad2a57d",
   "metadata": {},
   "outputs": [],
   "source": [
    "del updatedf_new['Branch']  #del deltes directly from the saved variable"
   ]
  },
  {
   "cell_type": "code",
   "execution_count": null,
   "id": "9d68cd92",
   "metadata": {
    "scrolled": true
   },
   "outputs": [],
   "source": [
    "updatedf_new"
   ]
  },
  {
   "cell_type": "code",
   "execution_count": null,
   "id": "e835de0e",
   "metadata": {},
   "outputs": [],
   "source": [
    "df_json=pd.read_json(r'Data/data.json')  \n",
    "\n",
    "# all operation such as drop(), del, describe(), head(), tail(), size(), shape(),etc can be worked on"
   ]
  },
  {
   "cell_type": "code",
   "execution_count": null,
   "id": "427ce040",
   "metadata": {},
   "outputs": [],
   "source": [
    "df_json"
   ]
  },
  {
   "cell_type": "code",
   "execution_count": null,
   "id": "629be723",
   "metadata": {},
   "outputs": [],
   "source": [
    "\n",
    "\n",
    "\n",
    "\n",
    "\n",
    "\n"
   ]
  },
  {
   "cell_type": "code",
   "execution_count": null,
   "id": "e6942479",
   "metadata": {
    "scrolled": true
   },
   "outputs": [],
   "source": [
    "df_json.drop([0,1,2])"
   ]
  },
  {
   "cell_type": "code",
   "execution_count": null,
   "id": "5f951b33",
   "metadata": {},
   "outputs": [],
   "source": [
    "df_json.drop('Pulse',axis=1)"
   ]
  },
  {
   "cell_type": "code",
   "execution_count": null,
   "id": "1a0dd0ce",
   "metadata": {},
   "outputs": [],
   "source": [
    "\n",
    "\n",
    "\n",
    "\n",
    "\n",
    "\n"
   ]
  },
  {
   "cell_type": "code",
   "execution_count": null,
   "id": "1dac8f41",
   "metadata": {},
   "outputs": [],
   "source": [
    "#remove rows\n",
    "\n",
    "import pandas as pd\n",
    "\n",
    "df=pd.read_csv('Data/dirtydata.csv')\n",
    "\n",
    "print('Dataframe :\\n',df)"
   ]
  },
  {
   "cell_type": "code",
   "execution_count": null,
   "id": "9c103a99",
   "metadata": {},
   "outputs": [],
   "source": [
    "df.info()   \n",
    "\n",
    "#just to know the basic idea"
   ]
  },
  {
   "cell_type": "code",
   "execution_count": null,
   "id": "b8341f49",
   "metadata": {},
   "outputs": [],
   "source": [
    "df.isnull().sum()"
   ]
  },
  {
   "cell_type": "code",
   "execution_count": null,
   "id": "977d4795",
   "metadata": {},
   "outputs": [],
   "source": [
    "df.isna().sum()"
   ]
  },
  {
   "cell_type": "code",
   "execution_count": null,
   "id": "81aeb138",
   "metadata": {},
   "outputs": [],
   "source": [
    "df.describe()"
   ]
  },
  {
   "cell_type": "code",
   "execution_count": null,
   "id": "a8ce3ca3",
   "metadata": {},
   "outputs": [],
   "source": [
    "# since date is object we use include=all to get that as well\n",
    "\n",
    "df.describe(include='all')"
   ]
  },
  {
   "cell_type": "code",
   "execution_count": null,
   "id": "70683d0f",
   "metadata": {},
   "outputs": [],
   "source": [
    "new_df=df.dropna() #drops nan"
   ]
  },
  {
   "cell_type": "code",
   "execution_count": null,
   "id": "2e067274",
   "metadata": {},
   "outputs": [],
   "source": [
    "print(new_df)"
   ]
  },
  {
   "cell_type": "code",
   "execution_count": null,
   "id": "82ab9bd6",
   "metadata": {},
   "outputs": [],
   "source": [
    "new_df.info()"
   ]
  },
  {
   "cell_type": "code",
   "execution_count": null,
   "id": "3b139ea5",
   "metadata": {},
   "outputs": [],
   "source": [
    "# to change and save chnages in df itself we can use inplace=True\n",
    "\n",
    "#df=pd.read_csv('Data/dirtydata.csv')\n",
    "\n",
    "df.dropna(inplace=True)"
   ]
  },
  {
   "cell_type": "code",
   "execution_count": null,
   "id": "6763cc64",
   "metadata": {},
   "outputs": [],
   "source": [
    "print(df)"
   ]
  },
  {
   "cell_type": "code",
   "execution_count": null,
   "id": "ab8b48b7",
   "metadata": {},
   "outputs": [],
   "source": [
    "\n",
    "\n",
    "\n",
    "\n",
    "\n",
    "\n"
   ]
  },
  {
   "cell_type": "code",
   "execution_count": null,
   "id": "e53fde02",
   "metadata": {},
   "outputs": [],
   "source": [
    "#replacing empty values-(better than deleting while handling data).# drop() itself is not a good way to analyse data\n",
    "\n",
    "#fillna() with some random values which is still not good for data\n",
    "\n",
    "df=pd.read_csv('Data/dirtydata.csv')\n",
    "\n",
    "df.fillna(1.430,inplace=True)\n",
    "print(df)"
   ]
  },
  {
   "cell_type": "code",
   "execution_count": null,
   "id": "2ad0b190",
   "metadata": {},
   "outputs": [],
   "source": [
    "\n",
    "\n",
    "\n",
    "#dropna()  can be used across all or either to a specific column\n",
    "# drop itself is not a good way to analyse data\n"
   ]
  },
  {
   "cell_type": "code",
   "execution_count": null,
   "id": "dcfbf637",
   "metadata": {},
   "outputs": [],
   "source": [
    "#replacing specific columns with dummy value\n",
    "\n",
    "#here we use \"Calories\" column\n",
    "\n",
    "# in all othere columns no change will be effected\n",
    "\n",
    "df=pd.read_csv('Data/dirtydata.csv')\n",
    "\n",
    "df['Calories'].fillna(1.430,inplace=True)\n",
    "print(df)"
   ]
  },
  {
   "cell_type": "code",
   "execution_count": null,
   "id": "9da4bb5f",
   "metadata": {},
   "outputs": [],
   "source": [
    "\n",
    "\n",
    "#fillna() with some random values which is still not good for data\n",
    "\n"
   ]
  },
  {
   "cell_type": "code",
   "execution_count": null,
   "id": "5f5f9934",
   "metadata": {},
   "outputs": [],
   "source": [
    "#using replace with mean, median. mode"
   ]
  },
  {
   "cell_type": "code",
   "execution_count": null,
   "id": "0ad6bc38",
   "metadata": {},
   "outputs": [],
   "source": [
    "df=pd.read_csv('Data/dirtydata.csv')\n"
   ]
  },
  {
   "cell_type": "code",
   "execution_count": null,
   "id": "a176cad3",
   "metadata": {},
   "outputs": [],
   "source": [
    "# since the calories column need changes we use mean for them\n",
    "\n",
    "x=df['Calories'].mean()"
   ]
  },
  {
   "cell_type": "code",
   "execution_count": null,
   "id": "4b38ed8e",
   "metadata": {},
   "outputs": [],
   "source": [
    "df['Calories'].fillna(x,inplace=True)"
   ]
  },
  {
   "cell_type": "code",
   "execution_count": null,
   "id": "74e647d9",
   "metadata": {},
   "outputs": [],
   "source": [
    "df"
   ]
  },
  {
   "cell_type": "code",
   "execution_count": null,
   "id": "ee9080cf",
   "metadata": {},
   "outputs": [],
   "source": [
    "\n",
    "\n"
   ]
  },
  {
   "cell_type": "code",
   "execution_count": null,
   "id": "d5eba583",
   "metadata": {},
   "outputs": [],
   "source": [
    "# using median"
   ]
  },
  {
   "cell_type": "code",
   "execution_count": null,
   "id": "11bb10bd",
   "metadata": {},
   "outputs": [],
   "source": [
    "df=pd.read_csv('Data/dirtydata.csv')"
   ]
  },
  {
   "cell_type": "code",
   "execution_count": null,
   "id": "8db7142c",
   "metadata": {},
   "outputs": [],
   "source": [
    "y=df['Calories'].median()\n"
   ]
  },
  {
   "cell_type": "code",
   "execution_count": null,
   "id": "76b4cdc3",
   "metadata": {},
   "outputs": [],
   "source": [
    "df['Calories'].fillna(y,inplace=True)"
   ]
  },
  {
   "cell_type": "code",
   "execution_count": null,
   "id": "16f39c2a",
   "metadata": {},
   "outputs": [],
   "source": [
    "df"
   ]
  },
  {
   "cell_type": "code",
   "execution_count": null,
   "id": "f7a059b4",
   "metadata": {},
   "outputs": [],
   "source": [
    "\n",
    "\n",
    "#mode()\n",
    "\n"
   ]
  },
  {
   "cell_type": "code",
   "execution_count": null,
   "id": "88d3a1e9",
   "metadata": {},
   "outputs": [],
   "source": [
    "df=pd.read_csv(r'Data/dirtydata.csv')"
   ]
  },
  {
   "cell_type": "code",
   "execution_count": null,
   "id": "f0dc3d87",
   "metadata": {},
   "outputs": [],
   "source": [
    "z=df['Calories'].mode()[0]    \n",
    "\n",
    "# since mode can be multiple values the required one is inddexed in mode. It will be a panda series. \n",
    "#so need to take the value so indexed"
   ]
  },
  {
   "cell_type": "code",
   "execution_count": null,
   "id": "86519f6d",
   "metadata": {},
   "outputs": [],
   "source": [
    "df['Calories'].fillna(z,inplace=True)"
   ]
  },
  {
   "cell_type": "code",
   "execution_count": null,
   "id": "1e5dbd80",
   "metadata": {},
   "outputs": [],
   "source": [
    "df"
   ]
  },
  {
   "cell_type": "code",
   "execution_count": null,
   "id": "e1c24513",
   "metadata": {},
   "outputs": [],
   "source": [
    "\n",
    "\n",
    "\n",
    "#unique()\n",
    "#value_counts()\n",
    "\n",
    "\n"
   ]
  },
  {
   "cell_type": "code",
   "execution_count": null,
   "id": "ae1f70c3",
   "metadata": {},
   "outputs": [],
   "source": [
    "import pandas as pd\n",
    "data_new=pd.read_csv(r'Data/abcd.csv')"
   ]
  },
  {
   "cell_type": "code",
   "execution_count": null,
   "id": "4f606b59",
   "metadata": {},
   "outputs": [],
   "source": [
    "data_new.describe(include='O')"
   ]
  },
  {
   "cell_type": "code",
   "execution_count": null,
   "id": "e3467e23",
   "metadata": {},
   "outputs": [],
   "source": [
    "data_new['Gender'].mode()[0]"
   ]
  },
  {
   "cell_type": "code",
   "execution_count": null,
   "id": "a75f847e",
   "metadata": {},
   "outputs": [],
   "source": [
    "data_new['Gender'].unique()\n",
    "\n",
    "# unique values has nan , which is a null value"
   ]
  },
  {
   "cell_type": "code",
   "execution_count": null,
   "id": "76786a1c",
   "metadata": {},
   "outputs": [],
   "source": [
    "data_new['Gender'].value_counts()"
   ]
  },
  {
   "cell_type": "code",
   "execution_count": null,
   "id": "d240e776",
   "metadata": {},
   "outputs": [],
   "source": [
    "\n",
    "\n",
    "\n"
   ]
  },
  {
   "cell_type": "code",
   "execution_count": null,
   "id": "2cefeb7c",
   "metadata": {},
   "outputs": [],
   "source": [
    "import pandas as pd\n",
    "\n",
    "df=pd.read_csv('Data/dirtydata.csv')\n",
    "\n",
    "df"
   ]
  },
  {
   "cell_type": "code",
   "execution_count": null,
   "id": "7e07d9ed",
   "metadata": {},
   "outputs": [],
   "source": [
    "df.loc[7,'Duration']"
   ]
  },
  {
   "cell_type": "code",
   "execution_count": null,
   "id": "27586487",
   "metadata": {},
   "outputs": [],
   "source": [
    "df.loc[7]"
   ]
  },
  {
   "cell_type": "code",
   "execution_count": null,
   "id": "3ff161b5",
   "metadata": {},
   "outputs": [],
   "source": [
    "x=df['Duration'].mode()[0]"
   ]
  },
  {
   "cell_type": "code",
   "execution_count": null,
   "id": "c32d688b",
   "metadata": {},
   "outputs": [],
   "source": [
    "df.loc[7,'Duration']=x"
   ]
  },
  {
   "cell_type": "code",
   "execution_count": null,
   "id": "9ced6adf",
   "metadata": {},
   "outputs": [],
   "source": [
    "df"
   ]
  },
  {
   "cell_type": "code",
   "execution_count": null,
   "id": "1fca8f23",
   "metadata": {},
   "outputs": [],
   "source": [
    "\n",
    "\n",
    "\n",
    "#df.index\n",
    "\n",
    "\n",
    "\n"
   ]
  },
  {
   "cell_type": "code",
   "execution_count": null,
   "id": "3d5c997d",
   "metadata": {},
   "outputs": [],
   "source": [
    "df=pd.read_csv('Data/dirtydata.csv')\n",
    "\n",
    "df"
   ]
  },
  {
   "cell_type": "code",
   "execution_count": null,
   "id": "fc58ece0",
   "metadata": {},
   "outputs": [],
   "source": [
    "for i in df.index:\n",
    "    print('The index is :',i)\n",
    "    if df.loc[i,'Duration']>60:\n",
    "        print(' the value above 60 is:',df.loc[i,'Duration'])\n",
    "        df.drop(i,inplace=True)\n",
    "#     if df.loc[i,'Duration']==60:\n",
    "#         print('Changing value to 50 from 60')\n",
    "#         df.loc[i,'Duration']=50\n",
    "#         print('changed value is:',df.loc[i,'Duration'])\n",
    "#     print('===============\\n')"
   ]
  },
  {
   "cell_type": "code",
   "execution_count": null,
   "id": "8710f3c6",
   "metadata": {},
   "outputs": [],
   "source": [
    "df"
   ]
  },
  {
   "cell_type": "code",
   "execution_count": null,
   "id": "d7b92aaa",
   "metadata": {},
   "outputs": [],
   "source": [
    "df.reset_index(inplace=True) \n",
    "# this will give an extra index column scroll down to seee the better and easier way to remove index "
   ]
  },
  {
   "cell_type": "code",
   "execution_count": null,
   "id": "fbd795de",
   "metadata": {},
   "outputs": [],
   "source": [
    "df"
   ]
  },
  {
   "cell_type": "code",
   "execution_count": null,
   "id": "b0474b98",
   "metadata": {},
   "outputs": [],
   "source": [
    "del df['index']"
   ]
  },
  {
   "cell_type": "code",
   "execution_count": null,
   "id": "70751e2b",
   "metadata": {},
   "outputs": [],
   "source": [
    "df"
   ]
  },
  {
   "cell_type": "code",
   "execution_count": null,
   "id": "ac8fa31f",
   "metadata": {},
   "outputs": [],
   "source": [
    "\n",
    "# better and easier way\n",
    "\n"
   ]
  },
  {
   "cell_type": "code",
   "execution_count": null,
   "id": "1feaf1f2",
   "metadata": {},
   "outputs": [],
   "source": [
    "df=pd.read_csv('Data/dirtydata.csv')"
   ]
  },
  {
   "cell_type": "code",
   "execution_count": null,
   "id": "3573113f",
   "metadata": {},
   "outputs": [],
   "source": [
    "for i in df.index:\n",
    "    print('The index is :',i)\n",
    "    if df.loc[i,'Duration']>60:\n",
    "        print(' the value above 60 is:',df.loc[i,'Duration'])\n",
    "        df.drop(i,inplace=True)"
   ]
  },
  {
   "cell_type": "code",
   "execution_count": null,
   "id": "2c452cdf",
   "metadata": {},
   "outputs": [],
   "source": [
    "df.reset_index(drop=True,inplace=True)"
   ]
  },
  {
   "cell_type": "code",
   "execution_count": null,
   "id": "1487a211",
   "metadata": {
    "scrolled": true
   },
   "outputs": [],
   "source": [
    "df"
   ]
  },
  {
   "cell_type": "code",
   "execution_count": null,
   "id": "683712d9",
   "metadata": {},
   "outputs": [],
   "source": [
    "import pandas as pd\n",
    "\n",
    "data=pd.read_csv('Data/supermarket_sales.csv')\n",
    "\n",
    "data"
   ]
  },
  {
   "cell_type": "code",
   "execution_count": null,
   "id": "bc45ff82",
   "metadata": {},
   "outputs": [],
   "source": [
    "data.head()"
   ]
  },
  {
   "cell_type": "code",
   "execution_count": null,
   "id": "9822322a",
   "metadata": {},
   "outputs": [],
   "source": [
    "data.tail()"
   ]
  },
  {
   "cell_type": "code",
   "execution_count": null,
   "id": "5470dd52",
   "metadata": {},
   "outputs": [],
   "source": [
    "#to calculate mean of gross income\n",
    "\n",
    "data['gross income'].mean()"
   ]
  },
  {
   "cell_type": "code",
   "execution_count": null,
   "id": "71297ff0",
   "metadata": {},
   "outputs": [],
   "source": [
    "#calculating median\n",
    "\n",
    "data['gross income'].median()"
   ]
  },
  {
   "cell_type": "code",
   "execution_count": null,
   "id": "4b07235f",
   "metadata": {},
   "outputs": [],
   "source": [
    "# calculating gender mode\n",
    "\n",
    "data['Gender'].mode()[0]"
   ]
  },
  {
   "cell_type": "code",
   "execution_count": null,
   "id": "370a41c0",
   "metadata": {},
   "outputs": [],
   "source": [
    "data['Gender'].value_counts()"
   ]
  },
  {
   "cell_type": "code",
   "execution_count": null,
   "id": "2bcea933",
   "metadata": {},
   "outputs": [],
   "source": [
    "data['Gender'].unique()"
   ]
  },
  {
   "cell_type": "code",
   "execution_count": null,
   "id": "c4803eea",
   "metadata": {},
   "outputs": [],
   "source": [
    "#shows the number of unique values. Can be seen while we use describe with include='O'(since gender is object)\n",
    "\n",
    "data['Gender'].nunique()"
   ]
  },
  {
   "cell_type": "code",
   "execution_count": null,
   "id": "3469d7ab",
   "metadata": {},
   "outputs": [],
   "source": [
    "#  ****************************************************************************\n",
    "#  details(data) function is created to display all the basic informations of the loaded data on calling\n",
    "#  it contains shape, size, data-types, head, tail, info, describe, null,null-sum\n",
    "#                       **************************************\n",
    "\n",
    "# size and shape give the respective details of the data. While data types give the types of datatypes used in the data.\n",
    "# head(),tail()- displays the data from the top and bottom respectively of the data(default or required number of data)\n",
    "# info()---gives the information on the datas included in the raw data set\n",
    "# describe()---gives an abstract of numerical objects datas in the raw data \n",
    "# isnull() gives the details of the missing datas in any field.\n",
    "# isnull().sum() gives the abstract data of missing values and their count\n",
    "#                           ********************************\n",
    "\n",
    "# n,j- are integer values required for required amount of head and tail dataas\n",
    "# i,k- are string values required to check for the user requirement on head and tail data...\n",
    "# ...and for decribing only the object types on demand.\n",
    "\n",
    "def details(data):\n",
    "   \n",
    "    print('The datas shape is:',data.shape) # gives the shape of data\n",
    "    print('=============================================\\n')\n",
    "    \n",
    "    print('The data size is: ',data.size)  # gives the size of the data\n",
    "    print('=============================================\\n')\n",
    "    \n",
    "    print(f'The data types are:{data.dtypes}') # printing data types\n",
    "    print('=============================================\\n')\n",
    "    \n",
    "    i=input('Do you want to print default head and tail data?(Y/N)') # Checking whether default value is enough\n",
    "    if i=='Y'or'y'or'yes'or'Yes':\n",
    "        print('The first 5 details are: ',data.head())\n",
    "        print('The last 5 details are:',data.tail())\n",
    "    else:\n",
    "        n=input('Enter the number of details from the top you need to display:') # accepting value required by the user\n",
    "        j=input('Enter the number of details from bottom you need to display: ') # accepting value required by the user\n",
    "        print(f'The first {n} data is :{data.head(n)}')  # printing accepted value\n",
    "        print(f'The last {j} data is:{data.tail(j)}') # printing accepted value\n",
    "    print('=============================================\\n')\n",
    "        \n",
    "    print(f'The net information from the data is: {data.info}') #Printing all informations of the data excluding values and entrys\n",
    "    print('=============================================\\n')\n",
    "    \n",
    "    print('The data in aggregate of all datatypes is :',data.describe(include='all')) # printing total aggregate of the data of all datatypes\n",
    "    print('=============================================\\n')\n",
    "    \n",
    "    k=input('Do you want to display only object type aggregate data?(Y/N):')# check for seperating only object data type\n",
    "    if k=='Y'or'y'or'yes'or'Yes':\n",
    "        print('The data aggregate of objects is:',data.describe(include='O'))\n",
    "    print('=============================================\\n')\n",
    "    \n",
    "    print(f'The null values in the data are:{data.isnull()}') # Taking null value data or missing data\n",
    "    print('=============================================\\n')\n",
    "    \n",
    "    print(f'The sum of null values of the data is:{data.isna().sum()}')   # Giving the total number of missing data"
   ]
  },
  {
   "cell_type": "code",
   "execution_count": null,
   "id": "e29968ba",
   "metadata": {},
   "outputs": [],
   "source": [
    "# Total gross income\n",
    "\n",
    "totalGrossIncome=data['gross income'].sum()\n",
    "\n",
    "print('The total gross income is: ',totalGrossIncome)"
   ]
  },
  {
   "cell_type": "code",
   "execution_count": null,
   "id": "28a4453a",
   "metadata": {},
   "outputs": [],
   "source": [
    "#most commonly used payment type\n",
    "\n",
    "paymentMost=data['Payment'].mode()[0]\n",
    "print('The most commonly used payment method is:',paymentMost)"
   ]
  },
  {
   "cell_type": "code",
   "execution_count": null,
   "id": "3f851aa8",
   "metadata": {},
   "outputs": [],
   "source": [
    "#average unit price of the products\n",
    "\n",
    "avgUnitPrice=data['Unit price'].mean()\n",
    "print(f'The average unit price of the products is:{avgUnitPrice}')\n",
    "\n",
    "\n",
    "#instead of using coma and the variable name, 'f' at the begining of statement outside the'' and use {arg_name} inside the ''"
   ]
  },
  {
   "cell_type": "code",
   "execution_count": null,
   "id": "56e39fae",
   "metadata": {},
   "outputs": [],
   "source": [
    "#standard deviation of unit price\n",
    "\n",
    "stndDeviationUnit=data['Unit price'].std()\n",
    "print(f'The standard deviation of unit price is : {stndDeviationUnit}')"
   ]
  },
  {
   "cell_type": "code",
   "execution_count": null,
   "id": "0c7c3f64",
   "metadata": {},
   "outputs": [],
   "source": [
    "# Number of sales?\n",
    "# data['Invoice ID'].nunique()\n",
    "# data['Invoice ID'].count()\n",
    "# data['Invoice ID'].shape[0]\n",
    "#data['Invoice ID'].size\n",
    "data['Invoice ID'].value_counts()  #the length inside the value_counts give the total sales"
   ]
  },
  {
   "cell_type": "code",
   "execution_count": null,
   "id": "b39fa097",
   "metadata": {},
   "outputs": [],
   "source": [
    "#Number of product lines?\n",
    "\n",
    "data['Product line'].unique()"
   ]
  },
  {
   "cell_type": "code",
   "execution_count": null,
   "id": "fa175c7c",
   "metadata": {},
   "outputs": [],
   "source": [
    "\n",
    "\n",
    "#next problem\n",
    "\n",
    "\n"
   ]
  },
  {
   "cell_type": "code",
   "execution_count": null,
   "id": "d50fee0d",
   "metadata": {},
   "outputs": [],
   "source": [
    "import pandas as pd\n",
    "dat=pd.read_csv('Data/adult.csv')"
   ]
  },
  {
   "cell_type": "code",
   "execution_count": null,
   "id": "deb0a08d",
   "metadata": {},
   "outputs": [],
   "source": [
    "dat.head()"
   ]
  },
  {
   "cell_type": "code",
   "execution_count": null,
   "id": "0af35499",
   "metadata": {},
   "outputs": [],
   "source": [
    "dat.tail()"
   ]
  },
  {
   "cell_type": "code",
   "execution_count": null,
   "id": "52a1d910",
   "metadata": {},
   "outputs": [],
   "source": [
    "dat.describe(include='O')"
   ]
  },
  {
   "cell_type": "code",
   "execution_count": null,
   "id": "11c8e134",
   "metadata": {},
   "outputs": [],
   "source": [
    "dat.isnull()"
   ]
  },
  {
   "cell_type": "code",
   "execution_count": null,
   "id": "90b245da",
   "metadata": {},
   "outputs": [],
   "source": [
    "dat.isnull().sum()  # or isna() can be used"
   ]
  },
  {
   "cell_type": "code",
   "execution_count": null,
   "id": "233592fd",
   "metadata": {},
   "outputs": [],
   "source": [
    "# average work hour per week\n",
    "\n",
    "dat['hours-per-week'].mean()"
   ]
  },
  {
   "cell_type": "code",
   "execution_count": null,
   "id": "9aeb6021",
   "metadata": {},
   "outputs": [],
   "source": [
    "# average hours per week male and female seperate\n",
    "\n",
    "dat.groupby('gender')['hours-per-week'].mean()"
   ]
  },
  {
   "cell_type": "code",
   "execution_count": null,
   "id": "e743699f",
   "metadata": {},
   "outputs": [],
   "source": [
    "dat['workclass'].unique()"
   ]
  },
  {
   "cell_type": "code",
   "execution_count": null,
   "id": "2542e3bd",
   "metadata": {},
   "outputs": [],
   "source": [
    "dat['workclass'].nunique()"
   ]
  },
  {
   "cell_type": "code",
   "execution_count": null,
   "id": "fa03cbf4",
   "metadata": {},
   "outputs": [],
   "source": [
    "dat['workclass'].mode()[0]"
   ]
  },
  {
   "cell_type": "code",
   "execution_count": null,
   "id": "6e61afac",
   "metadata": {},
   "outputs": [],
   "source": [
    "dat['workclass'].value_counts()"
   ]
  },
  {
   "cell_type": "code",
   "execution_count": null,
   "id": "c34592cc",
   "metadata": {},
   "outputs": [],
   "source": [
    "dat.groupby(['workclass','gender'])['hours-per-week'].mean()"
   ]
  },
  {
   "cell_type": "code",
   "execution_count": null,
   "id": "1339f7c0",
   "metadata": {},
   "outputs": [],
   "source": [
    "dat['race'].value_counts()"
   ]
  },
  {
   "cell_type": "code",
   "execution_count": null,
   "id": "5035184e",
   "metadata": {},
   "outputs": [],
   "source": [
    "dat['race'].mode()"
   ]
  },
  {
   "cell_type": "code",
   "execution_count": null,
   "id": "09cde6a4",
   "metadata": {},
   "outputs": [],
   "source": [
    "dat.groupby(['race','workclass','gender'])['hours-per-week'].mean()"
   ]
  },
  {
   "cell_type": "code",
   "execution_count": null,
   "id": "ceeb8cc0",
   "metadata": {},
   "outputs": [],
   "source": [
    "pd.set_option('display.max_rows',100)  \n",
    "\n",
    "#without this only some data will be displayed as the output above"
   ]
  },
  {
   "cell_type": "code",
   "execution_count": null,
   "id": "d860e0cd",
   "metadata": {},
   "outputs": [],
   "source": [
    "dat.groupby(['race','workclass','gender'])['hours-per-week'].mean()"
   ]
  },
  {
   "cell_type": "code",
   "execution_count": null,
   "id": "d2db57d3",
   "metadata": {},
   "outputs": [],
   "source": [
    "dat.groupby(['race','workclass','gender'])['age','hours-per-week'].mean()"
   ]
  },
  {
   "cell_type": "code",
   "execution_count": null,
   "id": "f2030d75",
   "metadata": {},
   "outputs": [],
   "source": [
    "\n",
    "\n",
    "\n",
    "\n",
    "#Writing to csv file\n",
    "\n",
    "\n"
   ]
  },
  {
   "cell_type": "code",
   "execution_count": null,
   "id": "5e033036",
   "metadata": {},
   "outputs": [],
   "source": [
    "outputDF=dat.groupby(['race','workclass','gender'])['age','hours-per-week'].mean()"
   ]
  },
  {
   "cell_type": "code",
   "execution_count": null,
   "id": "8ae201cd",
   "metadata": {},
   "outputs": [],
   "source": [
    "type(outputDF)"
   ]
  },
  {
   "cell_type": "code",
   "execution_count": null,
   "id": "a755cc26",
   "metadata": {},
   "outputs": [],
   "source": [
    "outputDF.to_csv('sample.csv')    # this will save directly to the current directory"
   ]
  },
  {
   "cell_type": "code",
   "execution_count": null,
   "id": "d0afd7b7",
   "metadata": {},
   "outputs": [],
   "source": [
    "outputDF.to_excel('sample1.xlsx')  "
   ]
  },
  {
   "cell_type": "code",
   "execution_count": null,
   "id": "ccfbc4ef",
   "metadata": {},
   "outputs": [],
   "source": [
    "# To change to any other directory go and select the path of the folder and paste it+'/name.file_extension'\n",
    "\n",
    "\n",
    "outputDF.to_excel(r'C:\\Users\\prave\\OneDrive\\Desktop\\ML Learning\\Saving from notebooks\\sample1.xlsx')"
   ]
  },
  {
   "cell_type": "code",
   "execution_count": 2,
   "id": "60ddadda",
   "metadata": {},
   "outputs": [],
   "source": [
    "\n",
    "\n",
    "\n",
    "\n",
    "import pandas as pd"
   ]
  },
  {
   "cell_type": "code",
   "execution_count": 3,
   "id": "1dd20093",
   "metadata": {},
   "outputs": [],
   "source": [
    "df_customer = pd.DataFrame({\n",
    "    'id': [1, 2, 3, 4],\n",
    "    'name': ['Tom', 'Jenny', 'James', 'Dan'],\n",
    "})\n",
    "df_info = pd.DataFrame({\n",
    "    'id': [2, 3, 4, 5],\n",
    "    'age': [31, 20, 40, 70],\n",
    "    'sex': ['F', 'M', 'M', 'F']\n",
    "})"
   ]
  },
  {
   "cell_type": "code",
   "execution_count": 4,
   "id": "be276479",
   "metadata": {},
   "outputs": [
    {
     "data": {
      "text/html": [
       "<div>\n",
       "<style scoped>\n",
       "    .dataframe tbody tr th:only-of-type {\n",
       "        vertical-align: middle;\n",
       "    }\n",
       "\n",
       "    .dataframe tbody tr th {\n",
       "        vertical-align: top;\n",
       "    }\n",
       "\n",
       "    .dataframe thead th {\n",
       "        text-align: right;\n",
       "    }\n",
       "</style>\n",
       "<table border=\"1\" class=\"dataframe\">\n",
       "  <thead>\n",
       "    <tr style=\"text-align: right;\">\n",
       "      <th></th>\n",
       "      <th>id</th>\n",
       "      <th>name</th>\n",
       "      <th>age</th>\n",
       "      <th>sex</th>\n",
       "    </tr>\n",
       "  </thead>\n",
       "  <tbody>\n",
       "    <tr>\n",
       "      <th>0</th>\n",
       "      <td>2</td>\n",
       "      <td>Jenny</td>\n",
       "      <td>31</td>\n",
       "      <td>F</td>\n",
       "    </tr>\n",
       "    <tr>\n",
       "      <th>1</th>\n",
       "      <td>3</td>\n",
       "      <td>James</td>\n",
       "      <td>20</td>\n",
       "      <td>M</td>\n",
       "    </tr>\n",
       "    <tr>\n",
       "      <th>2</th>\n",
       "      <td>4</td>\n",
       "      <td>Dan</td>\n",
       "      <td>40</td>\n",
       "      <td>M</td>\n",
       "    </tr>\n",
       "  </tbody>\n",
       "</table>\n",
       "</div>"
      ],
      "text/plain": [
       "   id   name  age sex\n",
       "0   2  Jenny   31   F\n",
       "1   3  James   20   M\n",
       "2   4    Dan   40   M"
      ]
     },
     "execution_count": 4,
     "metadata": {},
     "output_type": "execute_result"
    }
   ],
   "source": [
    "pd.merge(df_customer,df_info) # merge--Common column names in both will be considered and matched"
   ]
  },
  {
   "cell_type": "code",
   "execution_count": 5,
   "id": "aecbb3c6",
   "metadata": {},
   "outputs": [
    {
     "data": {
      "text/html": [
       "<div>\n",
       "<style scoped>\n",
       "    .dataframe tbody tr th:only-of-type {\n",
       "        vertical-align: middle;\n",
       "    }\n",
       "\n",
       "    .dataframe tbody tr th {\n",
       "        vertical-align: top;\n",
       "    }\n",
       "\n",
       "    .dataframe thead th {\n",
       "        text-align: right;\n",
       "    }\n",
       "</style>\n",
       "<table border=\"1\" class=\"dataframe\">\n",
       "  <thead>\n",
       "    <tr style=\"text-align: right;\">\n",
       "      <th></th>\n",
       "      <th>id</th>\n",
       "      <th>name</th>\n",
       "      <th>age</th>\n",
       "      <th>sex</th>\n",
       "    </tr>\n",
       "  </thead>\n",
       "  <tbody>\n",
       "    <tr>\n",
       "      <th>0</th>\n",
       "      <td>2</td>\n",
       "      <td>Jenny</td>\n",
       "      <td>31</td>\n",
       "      <td>F</td>\n",
       "    </tr>\n",
       "    <tr>\n",
       "      <th>1</th>\n",
       "      <td>3</td>\n",
       "      <td>James</td>\n",
       "      <td>20</td>\n",
       "      <td>M</td>\n",
       "    </tr>\n",
       "    <tr>\n",
       "      <th>2</th>\n",
       "      <td>4</td>\n",
       "      <td>Dan</td>\n",
       "      <td>40</td>\n",
       "      <td>M</td>\n",
       "    </tr>\n",
       "  </tbody>\n",
       "</table>\n",
       "</div>"
      ],
      "text/plain": [
       "   id   name  age sex\n",
       "0   2  Jenny   31   F\n",
       "1   3  James   20   M\n",
       "2   4    Dan   40   M"
      ]
     },
     "execution_count": 5,
     "metadata": {},
     "output_type": "execute_result"
    }
   ],
   "source": [
    "df_customer.merge(df_info)#"
   ]
  },
  {
   "cell_type": "code",
   "execution_count": 6,
   "id": "9e3009e7",
   "metadata": {},
   "outputs": [
    {
     "data": {
      "text/html": [
       "<div>\n",
       "<style scoped>\n",
       "    .dataframe tbody tr th:only-of-type {\n",
       "        vertical-align: middle;\n",
       "    }\n",
       "\n",
       "    .dataframe tbody tr th {\n",
       "        vertical-align: top;\n",
       "    }\n",
       "\n",
       "    .dataframe thead th {\n",
       "        text-align: right;\n",
       "    }\n",
       "</style>\n",
       "<table border=\"1\" class=\"dataframe\">\n",
       "  <thead>\n",
       "    <tr style=\"text-align: right;\">\n",
       "      <th></th>\n",
       "      <th>id</th>\n",
       "      <th>name</th>\n",
       "      <th>age</th>\n",
       "      <th>sex</th>\n",
       "    </tr>\n",
       "  </thead>\n",
       "  <tbody>\n",
       "    <tr>\n",
       "      <th>0</th>\n",
       "      <td>2</td>\n",
       "      <td>Jenny</td>\n",
       "      <td>31</td>\n",
       "      <td>F</td>\n",
       "    </tr>\n",
       "    <tr>\n",
       "      <th>1</th>\n",
       "      <td>3</td>\n",
       "      <td>James</td>\n",
       "      <td>20</td>\n",
       "      <td>M</td>\n",
       "    </tr>\n",
       "    <tr>\n",
       "      <th>2</th>\n",
       "      <td>4</td>\n",
       "      <td>Dan</td>\n",
       "      <td>40</td>\n",
       "      <td>M</td>\n",
       "    </tr>\n",
       "  </tbody>\n",
       "</table>\n",
       "</div>"
      ],
      "text/plain": [
       "   id   name  age sex\n",
       "0   2  Jenny   31   F\n",
       "1   3  James   20   M\n",
       "2   4    Dan   40   M"
      ]
     },
     "execution_count": 6,
     "metadata": {},
     "output_type": "execute_result"
    }
   ],
   "source": [
    "pd.merge(df_customer,df_info,on='id')  # if there was any other id that we could use for merging, we could give that"
   ]
  },
  {
   "cell_type": "code",
   "execution_count": 7,
   "id": "1ace20f5",
   "metadata": {},
   "outputs": [
    {
     "data": {
      "text/html": [
       "<div>\n",
       "<style scoped>\n",
       "    .dataframe tbody tr th:only-of-type {\n",
       "        vertical-align: middle;\n",
       "    }\n",
       "\n",
       "    .dataframe tbody tr th {\n",
       "        vertical-align: top;\n",
       "    }\n",
       "\n",
       "    .dataframe thead th {\n",
       "        text-align: right;\n",
       "    }\n",
       "</style>\n",
       "<table border=\"1\" class=\"dataframe\">\n",
       "  <thead>\n",
       "    <tr style=\"text-align: right;\">\n",
       "      <th></th>\n",
       "      <th>id</th>\n",
       "      <th>age</th>\n",
       "      <th>sex</th>\n",
       "      <th>name</th>\n",
       "    </tr>\n",
       "  </thead>\n",
       "  <tbody>\n",
       "    <tr>\n",
       "      <th>0</th>\n",
       "      <td>2</td>\n",
       "      <td>31</td>\n",
       "      <td>F</td>\n",
       "      <td>Jenny</td>\n",
       "    </tr>\n",
       "    <tr>\n",
       "      <th>1</th>\n",
       "      <td>3</td>\n",
       "      <td>20</td>\n",
       "      <td>M</td>\n",
       "      <td>James</td>\n",
       "    </tr>\n",
       "    <tr>\n",
       "      <th>2</th>\n",
       "      <td>4</td>\n",
       "      <td>40</td>\n",
       "      <td>M</td>\n",
       "      <td>Dan</td>\n",
       "    </tr>\n",
       "  </tbody>\n",
       "</table>\n",
       "</div>"
      ],
      "text/plain": [
       "   id  age sex   name\n",
       "0   2   31   F  Jenny\n",
       "1   3   20   M  James\n",
       "2   4   40   M    Dan"
      ]
     },
     "execution_count": 7,
     "metadata": {},
     "output_type": "execute_result"
    }
   ],
   "source": [
    "pd.merge(df_info,df_customer)  # the order we need depends o how we give the merge"
   ]
  },
  {
   "cell_type": "code",
   "execution_count": 8,
   "id": "a63c519f",
   "metadata": {},
   "outputs": [],
   "source": [
    "df_order = pd.DataFrame({\n",
    "    'id': [2,3,4,5],\n",
    "    'name': ['Jenny', 'James', 'Dan', 'leo'],\n",
    "    'quantity': [2,4,6,10]\n",
    "})\n"
   ]
  },
  {
   "cell_type": "code",
   "execution_count": 9,
   "id": "d74af685",
   "metadata": {},
   "outputs": [
    {
     "data": {
      "text/html": [
       "<div>\n",
       "<style scoped>\n",
       "    .dataframe tbody tr th:only-of-type {\n",
       "        vertical-align: middle;\n",
       "    }\n",
       "\n",
       "    .dataframe tbody tr th {\n",
       "        vertical-align: top;\n",
       "    }\n",
       "\n",
       "    .dataframe thead th {\n",
       "        text-align: right;\n",
       "    }\n",
       "</style>\n",
       "<table border=\"1\" class=\"dataframe\">\n",
       "  <thead>\n",
       "    <tr style=\"text-align: right;\">\n",
       "      <th></th>\n",
       "      <th>id</th>\n",
       "      <th>name</th>\n",
       "      <th>quantity</th>\n",
       "    </tr>\n",
       "  </thead>\n",
       "  <tbody>\n",
       "    <tr>\n",
       "      <th>0</th>\n",
       "      <td>2</td>\n",
       "      <td>Jenny</td>\n",
       "      <td>2</td>\n",
       "    </tr>\n",
       "    <tr>\n",
       "      <th>1</th>\n",
       "      <td>3</td>\n",
       "      <td>James</td>\n",
       "      <td>4</td>\n",
       "    </tr>\n",
       "    <tr>\n",
       "      <th>2</th>\n",
       "      <td>4</td>\n",
       "      <td>Dan</td>\n",
       "      <td>6</td>\n",
       "    </tr>\n",
       "  </tbody>\n",
       "</table>\n",
       "</div>"
      ],
      "text/plain": [
       "   id   name  quantity\n",
       "0   2  Jenny         2\n",
       "1   3  James         4\n",
       "2   4    Dan         6"
      ]
     },
     "execution_count": 9,
     "metadata": {},
     "output_type": "execute_result"
    }
   ],
   "source": [
    "pd.merge(df_customer,df_order)"
   ]
  },
  {
   "cell_type": "code",
   "execution_count": 10,
   "id": "3c6f121c",
   "metadata": {},
   "outputs": [
    {
     "data": {
      "text/html": [
       "<div>\n",
       "<style scoped>\n",
       "    .dataframe tbody tr th:only-of-type {\n",
       "        vertical-align: middle;\n",
       "    }\n",
       "\n",
       "    .dataframe tbody tr th {\n",
       "        vertical-align: top;\n",
       "    }\n",
       "\n",
       "    .dataframe thead th {\n",
       "        text-align: right;\n",
       "    }\n",
       "</style>\n",
       "<table border=\"1\" class=\"dataframe\">\n",
       "  <thead>\n",
       "    <tr style=\"text-align: right;\">\n",
       "      <th></th>\n",
       "      <th>id_x</th>\n",
       "      <th>name</th>\n",
       "      <th>id_y</th>\n",
       "      <th>quantity</th>\n",
       "    </tr>\n",
       "  </thead>\n",
       "  <tbody>\n",
       "    <tr>\n",
       "      <th>0</th>\n",
       "      <td>2</td>\n",
       "      <td>Jenny</td>\n",
       "      <td>2</td>\n",
       "      <td>2</td>\n",
       "    </tr>\n",
       "    <tr>\n",
       "      <th>1</th>\n",
       "      <td>3</td>\n",
       "      <td>James</td>\n",
       "      <td>3</td>\n",
       "      <td>4</td>\n",
       "    </tr>\n",
       "    <tr>\n",
       "      <th>2</th>\n",
       "      <td>4</td>\n",
       "      <td>Dan</td>\n",
       "      <td>4</td>\n",
       "      <td>6</td>\n",
       "    </tr>\n",
       "  </tbody>\n",
       "</table>\n",
       "</div>"
      ],
      "text/plain": [
       "   id_x   name  id_y  quantity\n",
       "0     2  Jenny     2         2\n",
       "1     3  James     3         4\n",
       "2     4    Dan     4         6"
      ]
     },
     "execution_count": 10,
     "metadata": {},
     "output_type": "execute_result"
    }
   ],
   "source": [
    "pd.merge(df_customer,df_order,on=['name'])"
   ]
  },
  {
   "cell_type": "code",
   "execution_count": 11,
   "id": "9d9a7083",
   "metadata": {},
   "outputs": [
    {
     "data": {
      "text/html": [
       "<div>\n",
       "<style scoped>\n",
       "    .dataframe tbody tr th:only-of-type {\n",
       "        vertical-align: middle;\n",
       "    }\n",
       "\n",
       "    .dataframe tbody tr th {\n",
       "        vertical-align: top;\n",
       "    }\n",
       "\n",
       "    .dataframe thead th {\n",
       "        text-align: right;\n",
       "    }\n",
       "</style>\n",
       "<table border=\"1\" class=\"dataframe\">\n",
       "  <thead>\n",
       "    <tr style=\"text-align: right;\">\n",
       "      <th></th>\n",
       "      <th>id</th>\n",
       "      <th>name</th>\n",
       "      <th>customer_id</th>\n",
       "      <th>age</th>\n",
       "      <th>sex</th>\n",
       "    </tr>\n",
       "  </thead>\n",
       "  <tbody>\n",
       "    <tr>\n",
       "      <th>0</th>\n",
       "      <td>2</td>\n",
       "      <td>Jenny</td>\n",
       "      <td>2</td>\n",
       "      <td>31</td>\n",
       "      <td>F</td>\n",
       "    </tr>\n",
       "    <tr>\n",
       "      <th>1</th>\n",
       "      <td>3</td>\n",
       "      <td>James</td>\n",
       "      <td>3</td>\n",
       "      <td>20</td>\n",
       "      <td>M</td>\n",
       "    </tr>\n",
       "    <tr>\n",
       "      <th>2</th>\n",
       "      <td>4</td>\n",
       "      <td>Dan</td>\n",
       "      <td>4</td>\n",
       "      <td>40</td>\n",
       "      <td>M</td>\n",
       "    </tr>\n",
       "  </tbody>\n",
       "</table>\n",
       "</div>"
      ],
      "text/plain": [
       "   id   name  customer_id  age sex\n",
       "0   2  Jenny            2   31   F\n",
       "1   3  James            3   20   M\n",
       "2   4    Dan            4   40   M"
      ]
     },
     "execution_count": 11,
     "metadata": {},
     "output_type": "execute_result"
    }
   ],
   "source": [
    "df_info_2 = pd.DataFrame({\n",
    "    'customer_id': [2,3,4,5],\n",
    "    'age': [31,20,40,70],\n",
    "    'sex': ['F', 'M', 'M', 'F']\n",
    "})\n",
    "\n",
    "pd.merge(\n",
    "  df_customer, \n",
    "  df_info_2, \n",
    "  left_on='id', \n",
    "  right_on='customer_id'\n",
    ")\n",
    "\n",
    "#left_on and right_on joins the table when no common column names are there"
   ]
  },
  {
   "cell_type": "code",
   "execution_count": 12,
   "id": "4b9a83e0",
   "metadata": {},
   "outputs": [],
   "source": [
    "\n",
    "\n",
    "\n",
    "#inner join\n",
    "\n"
   ]
  },
  {
   "cell_type": "code",
   "execution_count": 13,
   "id": "ded08732",
   "metadata": {},
   "outputs": [
    {
     "data": {
      "text/html": [
       "<div>\n",
       "<style scoped>\n",
       "    .dataframe tbody tr th:only-of-type {\n",
       "        vertical-align: middle;\n",
       "    }\n",
       "\n",
       "    .dataframe tbody tr th {\n",
       "        vertical-align: top;\n",
       "    }\n",
       "\n",
       "    .dataframe thead th {\n",
       "        text-align: right;\n",
       "    }\n",
       "</style>\n",
       "<table border=\"1\" class=\"dataframe\">\n",
       "  <thead>\n",
       "    <tr style=\"text-align: right;\">\n",
       "      <th></th>\n",
       "      <th>id</th>\n",
       "      <th>name</th>\n",
       "      <th>age</th>\n",
       "      <th>sex</th>\n",
       "    </tr>\n",
       "  </thead>\n",
       "  <tbody>\n",
       "    <tr>\n",
       "      <th>0</th>\n",
       "      <td>2</td>\n",
       "      <td>Jenny</td>\n",
       "      <td>31</td>\n",
       "      <td>F</td>\n",
       "    </tr>\n",
       "    <tr>\n",
       "      <th>1</th>\n",
       "      <td>3</td>\n",
       "      <td>James</td>\n",
       "      <td>20</td>\n",
       "      <td>M</td>\n",
       "    </tr>\n",
       "    <tr>\n",
       "      <th>2</th>\n",
       "      <td>4</td>\n",
       "      <td>Dan</td>\n",
       "      <td>40</td>\n",
       "      <td>M</td>\n",
       "    </tr>\n",
       "  </tbody>\n",
       "</table>\n",
       "</div>"
      ],
      "text/plain": [
       "   id   name  age sex\n",
       "0   2  Jenny   31   F\n",
       "1   3  James   20   M\n",
       "2   4    Dan   40   M"
      ]
     },
     "execution_count": 13,
     "metadata": {},
     "output_type": "execute_result"
    }
   ],
   "source": [
    "pd.merge(df_customer, df_info, how='inner', on='id')    # defaultly how is inner. looks for common"
   ]
  },
  {
   "cell_type": "code",
   "execution_count": 14,
   "id": "bcd9877a",
   "metadata": {},
   "outputs": [],
   "source": [
    "\n",
    "\n",
    "\n",
    "\n",
    "#Left join\n",
    "\n",
    "\n",
    "\n"
   ]
  },
  {
   "cell_type": "code",
   "execution_count": 15,
   "id": "e2222f5b",
   "metadata": {},
   "outputs": [
    {
     "data": {
      "text/html": [
       "<div>\n",
       "<style scoped>\n",
       "    .dataframe tbody tr th:only-of-type {\n",
       "        vertical-align: middle;\n",
       "    }\n",
       "\n",
       "    .dataframe tbody tr th {\n",
       "        vertical-align: top;\n",
       "    }\n",
       "\n",
       "    .dataframe thead th {\n",
       "        text-align: right;\n",
       "    }\n",
       "</style>\n",
       "<table border=\"1\" class=\"dataframe\">\n",
       "  <thead>\n",
       "    <tr style=\"text-align: right;\">\n",
       "      <th></th>\n",
       "      <th>id</th>\n",
       "      <th>name</th>\n",
       "      <th>age</th>\n",
       "      <th>sex</th>\n",
       "    </tr>\n",
       "  </thead>\n",
       "  <tbody>\n",
       "    <tr>\n",
       "      <th>0</th>\n",
       "      <td>1</td>\n",
       "      <td>Tom</td>\n",
       "      <td>NaN</td>\n",
       "      <td>NaN</td>\n",
       "    </tr>\n",
       "    <tr>\n",
       "      <th>1</th>\n",
       "      <td>2</td>\n",
       "      <td>Jenny</td>\n",
       "      <td>31.0</td>\n",
       "      <td>F</td>\n",
       "    </tr>\n",
       "    <tr>\n",
       "      <th>2</th>\n",
       "      <td>3</td>\n",
       "      <td>James</td>\n",
       "      <td>20.0</td>\n",
       "      <td>M</td>\n",
       "    </tr>\n",
       "    <tr>\n",
       "      <th>3</th>\n",
       "      <td>4</td>\n",
       "      <td>Dan</td>\n",
       "      <td>40.0</td>\n",
       "      <td>M</td>\n",
       "    </tr>\n",
       "  </tbody>\n",
       "</table>\n",
       "</div>"
      ],
      "text/plain": [
       "   id   name   age  sex\n",
       "0   1    Tom   NaN  NaN\n",
       "1   2  Jenny  31.0    F\n",
       "2   3  James  20.0    M\n",
       "3   4    Dan  40.0    M"
      ]
     },
     "execution_count": 15,
     "metadata": {},
     "output_type": "execute_result"
    }
   ],
   "source": [
    "#\n",
    "\n",
    "pd.merge(df_customer, df_info, how='left', on='id')  # if no common column for merging use right_on and left_on\n",
    "\n",
    "#gives preference to the left table. The data from the left table which is not a common one to right will also be added\n",
    "#The one in right dataframe wont be added which is not common"
   ]
  },
  {
   "cell_type": "code",
   "execution_count": 16,
   "id": "f7333dc7",
   "metadata": {},
   "outputs": [],
   "source": [
    "\n",
    "\n",
    "\n",
    "# Right Join\n",
    "\n",
    "\n"
   ]
  },
  {
   "cell_type": "code",
   "execution_count": 17,
   "id": "6947b179",
   "metadata": {},
   "outputs": [
    {
     "data": {
      "text/html": [
       "<div>\n",
       "<style scoped>\n",
       "    .dataframe tbody tr th:only-of-type {\n",
       "        vertical-align: middle;\n",
       "    }\n",
       "\n",
       "    .dataframe tbody tr th {\n",
       "        vertical-align: top;\n",
       "    }\n",
       "\n",
       "    .dataframe thead th {\n",
       "        text-align: right;\n",
       "    }\n",
       "</style>\n",
       "<table border=\"1\" class=\"dataframe\">\n",
       "  <thead>\n",
       "    <tr style=\"text-align: right;\">\n",
       "      <th></th>\n",
       "      <th>id</th>\n",
       "      <th>name</th>\n",
       "      <th>age</th>\n",
       "      <th>sex</th>\n",
       "    </tr>\n",
       "  </thead>\n",
       "  <tbody>\n",
       "    <tr>\n",
       "      <th>0</th>\n",
       "      <td>2</td>\n",
       "      <td>Jenny</td>\n",
       "      <td>31</td>\n",
       "      <td>F</td>\n",
       "    </tr>\n",
       "    <tr>\n",
       "      <th>1</th>\n",
       "      <td>3</td>\n",
       "      <td>James</td>\n",
       "      <td>20</td>\n",
       "      <td>M</td>\n",
       "    </tr>\n",
       "    <tr>\n",
       "      <th>2</th>\n",
       "      <td>4</td>\n",
       "      <td>Dan</td>\n",
       "      <td>40</td>\n",
       "      <td>M</td>\n",
       "    </tr>\n",
       "    <tr>\n",
       "      <th>3</th>\n",
       "      <td>5</td>\n",
       "      <td>NaN</td>\n",
       "      <td>70</td>\n",
       "      <td>F</td>\n",
       "    </tr>\n",
       "  </tbody>\n",
       "</table>\n",
       "</div>"
      ],
      "text/plain": [
       "   id   name  age sex\n",
       "0   2  Jenny   31   F\n",
       "1   3  James   20   M\n",
       "2   4    Dan   40   M\n",
       "3   5    NaN   70   F"
      ]
     },
     "execution_count": 17,
     "metadata": {},
     "output_type": "execute_result"
    }
   ],
   "source": [
    "pd.merge(df_customer, df_info, how='right', on='id')\n",
    "\n",
    "#gives preference to the right table. The data from the right table which is not a common one to left will also be added\n",
    "#The one in left dataframe wont be added which is not common"
   ]
  },
  {
   "cell_type": "code",
   "execution_count": 18,
   "id": "c1a95779",
   "metadata": {},
   "outputs": [],
   "source": [
    "\n",
    "\n",
    "\n",
    "# Outer Join\n",
    "\n",
    "\n"
   ]
  },
  {
   "cell_type": "code",
   "execution_count": 19,
   "id": "e4092566",
   "metadata": {},
   "outputs": [
    {
     "data": {
      "text/html": [
       "<div>\n",
       "<style scoped>\n",
       "    .dataframe tbody tr th:only-of-type {\n",
       "        vertical-align: middle;\n",
       "    }\n",
       "\n",
       "    .dataframe tbody tr th {\n",
       "        vertical-align: top;\n",
       "    }\n",
       "\n",
       "    .dataframe thead th {\n",
       "        text-align: right;\n",
       "    }\n",
       "</style>\n",
       "<table border=\"1\" class=\"dataframe\">\n",
       "  <thead>\n",
       "    <tr style=\"text-align: right;\">\n",
       "      <th></th>\n",
       "      <th>id</th>\n",
       "      <th>name</th>\n",
       "      <th>age</th>\n",
       "      <th>sex</th>\n",
       "    </tr>\n",
       "  </thead>\n",
       "  <tbody>\n",
       "    <tr>\n",
       "      <th>0</th>\n",
       "      <td>1</td>\n",
       "      <td>Tom</td>\n",
       "      <td>NaN</td>\n",
       "      <td>NaN</td>\n",
       "    </tr>\n",
       "    <tr>\n",
       "      <th>1</th>\n",
       "      <td>2</td>\n",
       "      <td>Jenny</td>\n",
       "      <td>31.0</td>\n",
       "      <td>F</td>\n",
       "    </tr>\n",
       "    <tr>\n",
       "      <th>2</th>\n",
       "      <td>3</td>\n",
       "      <td>James</td>\n",
       "      <td>20.0</td>\n",
       "      <td>M</td>\n",
       "    </tr>\n",
       "    <tr>\n",
       "      <th>3</th>\n",
       "      <td>4</td>\n",
       "      <td>Dan</td>\n",
       "      <td>40.0</td>\n",
       "      <td>M</td>\n",
       "    </tr>\n",
       "    <tr>\n",
       "      <th>4</th>\n",
       "      <td>5</td>\n",
       "      <td>NaN</td>\n",
       "      <td>70.0</td>\n",
       "      <td>F</td>\n",
       "    </tr>\n",
       "  </tbody>\n",
       "</table>\n",
       "</div>"
      ],
      "text/plain": [
       "   id   name   age  sex\n",
       "0   1    Tom   NaN  NaN\n",
       "1   2  Jenny  31.0    F\n",
       "2   3  James  20.0    M\n",
       "3   4    Dan  40.0    M\n",
       "4   5    NaN  70.0    F"
      ]
     },
     "execution_count": 19,
     "metadata": {},
     "output_type": "execute_result"
    }
   ],
   "source": [
    "pd.merge(df_customer, df_info, how='outer', on='id')\n",
    "\n",
    "#Joins all the data frm both dataframes, The ones which has no common points will give a missing values\n",
    "\n",
    "\n",
    "# id 1 has no values in the second data set or no id 1 in 2nd dataframe\n",
    "\n",
    "# and id 5 has no value in or no id 5 in 1st column hence name missing at id 5"
   ]
  },
  {
   "cell_type": "code",
   "execution_count": 20,
   "id": "e738fdc0",
   "metadata": {},
   "outputs": [],
   "source": [
    "df1 = pd.DataFrame({\n",
    "    \"city\": [\"new york\",\"chicago\",\"orlando\", \"baltimore\"],\n",
    "    \"temperature\": [21,14,35, 38],\n",
    "})"
   ]
  },
  {
   "cell_type": "code",
   "execution_count": 21,
   "id": "25aeef51",
   "metadata": {},
   "outputs": [],
   "source": [
    "df2 = pd.DataFrame({\n",
    "    \"city\": [\"chicago\",\"new york\",\"san diego\"],\n",
    "    \"humidity\": [65,68,71],\n",
    "})"
   ]
  },
  {
   "cell_type": "code",
   "execution_count": 22,
   "id": "889d95b6",
   "metadata": {},
   "outputs": [
    {
     "data": {
      "text/html": [
       "<div>\n",
       "<style scoped>\n",
       "    .dataframe tbody tr th:only-of-type {\n",
       "        vertical-align: middle;\n",
       "    }\n",
       "\n",
       "    .dataframe tbody tr th {\n",
       "        vertical-align: top;\n",
       "    }\n",
       "\n",
       "    .dataframe thead th {\n",
       "        text-align: right;\n",
       "    }\n",
       "</style>\n",
       "<table border=\"1\" class=\"dataframe\">\n",
       "  <thead>\n",
       "    <tr style=\"text-align: right;\">\n",
       "      <th></th>\n",
       "      <th>city</th>\n",
       "      <th>temperature</th>\n",
       "      <th>humidity</th>\n",
       "      <th>_merge</th>\n",
       "    </tr>\n",
       "  </thead>\n",
       "  <tbody>\n",
       "    <tr>\n",
       "      <th>0</th>\n",
       "      <td>new york</td>\n",
       "      <td>21.0</td>\n",
       "      <td>68.0</td>\n",
       "      <td>both</td>\n",
       "    </tr>\n",
       "    <tr>\n",
       "      <th>1</th>\n",
       "      <td>chicago</td>\n",
       "      <td>14.0</td>\n",
       "      <td>65.0</td>\n",
       "      <td>both</td>\n",
       "    </tr>\n",
       "    <tr>\n",
       "      <th>2</th>\n",
       "      <td>orlando</td>\n",
       "      <td>35.0</td>\n",
       "      <td>NaN</td>\n",
       "      <td>left_only</td>\n",
       "    </tr>\n",
       "    <tr>\n",
       "      <th>3</th>\n",
       "      <td>baltimore</td>\n",
       "      <td>38.0</td>\n",
       "      <td>NaN</td>\n",
       "      <td>left_only</td>\n",
       "    </tr>\n",
       "    <tr>\n",
       "      <th>4</th>\n",
       "      <td>san diego</td>\n",
       "      <td>NaN</td>\n",
       "      <td>71.0</td>\n",
       "      <td>right_only</td>\n",
       "    </tr>\n",
       "  </tbody>\n",
       "</table>\n",
       "</div>"
      ],
      "text/plain": [
       "        city  temperature  humidity      _merge\n",
       "0   new york         21.0      68.0        both\n",
       "1    chicago         14.0      65.0        both\n",
       "2    orlando         35.0       NaN   left_only\n",
       "3  baltimore         38.0       NaN   left_only\n",
       "4  san diego          NaN      71.0  right_only"
      ]
     },
     "execution_count": 22,
     "metadata": {},
     "output_type": "execute_result"
    }
   ],
   "source": [
    "pd.merge(df1,df2,on='city',how='outer',indicator=True)  \n",
    "\n",
    "# indicator gives the idea of the data presence in both dataframes"
   ]
  },
  {
   "cell_type": "code",
   "execution_count": 23,
   "id": "e1b02cb4",
   "metadata": {},
   "outputs": [],
   "source": [
    "\n",
    "\n",
    "\n",
    "# Suffixes\n",
    "\n",
    "\n"
   ]
  },
  {
   "cell_type": "code",
   "execution_count": 24,
   "id": "7e353e8d",
   "metadata": {},
   "outputs": [],
   "source": [
    "df1 = pd.DataFrame({\n",
    "    \"city\": [\"new york\",\"chicago\",\"orlando\", \"baltimore\"],\n",
    "    \"temperature\": [21,14,35,38],\n",
    "    \"humidity\": [65,68,71, 75]\n",
    "})"
   ]
  },
  {
   "cell_type": "code",
   "execution_count": 25,
   "id": "89b0f3b5",
   "metadata": {},
   "outputs": [],
   "source": [
    "df2 = pd.DataFrame({\n",
    "    \"city\": [\"chicago\",\"new york\",\"san diego\"],\n",
    "    \"temperature\": [21,14,35],\n",
    "    \"humidity\": [65,68,71]\n",
    "})"
   ]
  },
  {
   "cell_type": "code",
   "execution_count": 26,
   "id": "5d81da03",
   "metadata": {},
   "outputs": [
    {
     "data": {
      "text/html": [
       "<div>\n",
       "<style scoped>\n",
       "    .dataframe tbody tr th:only-of-type {\n",
       "        vertical-align: middle;\n",
       "    }\n",
       "\n",
       "    .dataframe tbody tr th {\n",
       "        vertical-align: top;\n",
       "    }\n",
       "\n",
       "    .dataframe thead th {\n",
       "        text-align: right;\n",
       "    }\n",
       "</style>\n",
       "<table border=\"1\" class=\"dataframe\">\n",
       "  <thead>\n",
       "    <tr style=\"text-align: right;\">\n",
       "      <th></th>\n",
       "      <th>city</th>\n",
       "      <th>temperature_x</th>\n",
       "      <th>humidity_x</th>\n",
       "      <th>temperature_y</th>\n",
       "      <th>humidity_y</th>\n",
       "    </tr>\n",
       "  </thead>\n",
       "  <tbody>\n",
       "    <tr>\n",
       "      <th>0</th>\n",
       "      <td>new york</td>\n",
       "      <td>21.0</td>\n",
       "      <td>65.0</td>\n",
       "      <td>14.0</td>\n",
       "      <td>68.0</td>\n",
       "    </tr>\n",
       "    <tr>\n",
       "      <th>1</th>\n",
       "      <td>chicago</td>\n",
       "      <td>14.0</td>\n",
       "      <td>68.0</td>\n",
       "      <td>21.0</td>\n",
       "      <td>65.0</td>\n",
       "    </tr>\n",
       "    <tr>\n",
       "      <th>2</th>\n",
       "      <td>orlando</td>\n",
       "      <td>35.0</td>\n",
       "      <td>71.0</td>\n",
       "      <td>NaN</td>\n",
       "      <td>NaN</td>\n",
       "    </tr>\n",
       "    <tr>\n",
       "      <th>3</th>\n",
       "      <td>baltimore</td>\n",
       "      <td>38.0</td>\n",
       "      <td>75.0</td>\n",
       "      <td>NaN</td>\n",
       "      <td>NaN</td>\n",
       "    </tr>\n",
       "    <tr>\n",
       "      <th>4</th>\n",
       "      <td>san diego</td>\n",
       "      <td>NaN</td>\n",
       "      <td>NaN</td>\n",
       "      <td>35.0</td>\n",
       "      <td>71.0</td>\n",
       "    </tr>\n",
       "  </tbody>\n",
       "</table>\n",
       "</div>"
      ],
      "text/plain": [
       "        city  temperature_x  humidity_x  temperature_y  humidity_y\n",
       "0   new york           21.0        65.0           14.0        68.0\n",
       "1    chicago           14.0        68.0           21.0        65.0\n",
       "2    orlando           35.0        71.0            NaN         NaN\n",
       "3  baltimore           38.0        75.0            NaN         NaN\n",
       "4  san diego            NaN         NaN           35.0        71.0"
      ]
     },
     "execution_count": 26,
     "metadata": {},
     "output_type": "execute_result"
    }
   ],
   "source": [
    "pd.merge(df1,df2,on='city',how=\"outer\")"
   ]
  },
  {
   "cell_type": "code",
   "execution_count": 27,
   "id": "edff92bc",
   "metadata": {},
   "outputs": [
    {
     "data": {
      "text/html": [
       "<div>\n",
       "<style scoped>\n",
       "    .dataframe tbody tr th:only-of-type {\n",
       "        vertical-align: middle;\n",
       "    }\n",
       "\n",
       "    .dataframe tbody tr th {\n",
       "        vertical-align: top;\n",
       "    }\n",
       "\n",
       "    .dataframe thead th {\n",
       "        text-align: right;\n",
       "    }\n",
       "</style>\n",
       "<table border=\"1\" class=\"dataframe\">\n",
       "  <thead>\n",
       "    <tr style=\"text-align: right;\">\n",
       "      <th></th>\n",
       "      <th>city</th>\n",
       "      <th>temperature_first</th>\n",
       "      <th>humidity_first</th>\n",
       "      <th>temperature_second</th>\n",
       "      <th>humidity_second</th>\n",
       "    </tr>\n",
       "  </thead>\n",
       "  <tbody>\n",
       "    <tr>\n",
       "      <th>0</th>\n",
       "      <td>new york</td>\n",
       "      <td>21.0</td>\n",
       "      <td>65.0</td>\n",
       "      <td>14.0</td>\n",
       "      <td>68.0</td>\n",
       "    </tr>\n",
       "    <tr>\n",
       "      <th>1</th>\n",
       "      <td>chicago</td>\n",
       "      <td>14.0</td>\n",
       "      <td>68.0</td>\n",
       "      <td>21.0</td>\n",
       "      <td>65.0</td>\n",
       "    </tr>\n",
       "    <tr>\n",
       "      <th>2</th>\n",
       "      <td>orlando</td>\n",
       "      <td>35.0</td>\n",
       "      <td>71.0</td>\n",
       "      <td>NaN</td>\n",
       "      <td>NaN</td>\n",
       "    </tr>\n",
       "    <tr>\n",
       "      <th>3</th>\n",
       "      <td>baltimore</td>\n",
       "      <td>38.0</td>\n",
       "      <td>75.0</td>\n",
       "      <td>NaN</td>\n",
       "      <td>NaN</td>\n",
       "    </tr>\n",
       "    <tr>\n",
       "      <th>4</th>\n",
       "      <td>san diego</td>\n",
       "      <td>NaN</td>\n",
       "      <td>NaN</td>\n",
       "      <td>35.0</td>\n",
       "      <td>71.0</td>\n",
       "    </tr>\n",
       "  </tbody>\n",
       "</table>\n",
       "</div>"
      ],
      "text/plain": [
       "        city  temperature_first  humidity_first  temperature_second  \\\n",
       "0   new york               21.0            65.0                14.0   \n",
       "1    chicago               14.0            68.0                21.0   \n",
       "2    orlando               35.0            71.0                 NaN   \n",
       "3  baltimore               38.0            75.0                 NaN   \n",
       "4  san diego                NaN             NaN                35.0   \n",
       "\n",
       "   humidity_second  \n",
       "0             68.0  \n",
       "1             65.0  \n",
       "2              NaN  \n",
       "3              NaN  \n",
       "4             71.0  "
      ]
     },
     "execution_count": 27,
     "metadata": {},
     "output_type": "execute_result"
    }
   ],
   "source": [
    "pd.merge(df1,df2,on='city',how=\"outer\", suffixes=('_first','_second'))   \n",
    "\n",
    "#suffixes('_x','_y') are default values to change that default values give the required suffixes in place of x and y"
   ]
  },
  {
   "cell_type": "code",
   "execution_count": 28,
   "id": "e9b576a4",
   "metadata": {},
   "outputs": [],
   "source": [
    "\n",
    "\n",
    "\n",
    "#Join \n",
    "\n",
    "\n"
   ]
  },
  {
   "cell_type": "code",
   "execution_count": 29,
   "id": "86b7938d",
   "metadata": {},
   "outputs": [
    {
     "data": {
      "text/html": [
       "<div>\n",
       "<style scoped>\n",
       "    .dataframe tbody tr th:only-of-type {\n",
       "        vertical-align: middle;\n",
       "    }\n",
       "\n",
       "    .dataframe tbody tr th {\n",
       "        vertical-align: top;\n",
       "    }\n",
       "\n",
       "    .dataframe thead th {\n",
       "        text-align: right;\n",
       "    }\n",
       "</style>\n",
       "<table border=\"1\" class=\"dataframe\">\n",
       "  <thead>\n",
       "    <tr style=\"text-align: right;\">\n",
       "      <th></th>\n",
       "      <th>city</th>\n",
       "      <th>temperature</th>\n",
       "    </tr>\n",
       "  </thead>\n",
       "  <tbody>\n",
       "    <tr>\n",
       "      <th>0</th>\n",
       "      <td>new york</td>\n",
       "      <td>21</td>\n",
       "    </tr>\n",
       "    <tr>\n",
       "      <th>1</th>\n",
       "      <td>chicago</td>\n",
       "      <td>14</td>\n",
       "    </tr>\n",
       "    <tr>\n",
       "      <th>2</th>\n",
       "      <td>orlando</td>\n",
       "      <td>35</td>\n",
       "    </tr>\n",
       "  </tbody>\n",
       "</table>\n",
       "</div>"
      ],
      "text/plain": [
       "       city  temperature\n",
       "0  new york           21\n",
       "1   chicago           14\n",
       "2   orlando           35"
      ]
     },
     "execution_count": 29,
     "metadata": {},
     "output_type": "execute_result"
    }
   ],
   "source": [
    "df1 = pd.DataFrame({\n",
    "    \"city\": [\"new york\",\"chicago\",\"orlando\"],\n",
    "    \"temperature\": [21,14,35],\n",
    "})\n",
    "df1"
   ]
  },
  {
   "cell_type": "code",
   "execution_count": 30,
   "id": "8ef3235b",
   "metadata": {},
   "outputs": [
    {
     "data": {
      "text/html": [
       "<div>\n",
       "<style scoped>\n",
       "    .dataframe tbody tr th:only-of-type {\n",
       "        vertical-align: middle;\n",
       "    }\n",
       "\n",
       "    .dataframe tbody tr th {\n",
       "        vertical-align: top;\n",
       "    }\n",
       "\n",
       "    .dataframe thead th {\n",
       "        text-align: right;\n",
       "    }\n",
       "</style>\n",
       "<table border=\"1\" class=\"dataframe\">\n",
       "  <thead>\n",
       "    <tr style=\"text-align: right;\">\n",
       "      <th></th>\n",
       "      <th>temperature</th>\n",
       "    </tr>\n",
       "    <tr>\n",
       "      <th>city</th>\n",
       "      <th></th>\n",
       "    </tr>\n",
       "  </thead>\n",
       "  <tbody>\n",
       "    <tr>\n",
       "      <th>new york</th>\n",
       "      <td>21</td>\n",
       "    </tr>\n",
       "    <tr>\n",
       "      <th>chicago</th>\n",
       "      <td>14</td>\n",
       "    </tr>\n",
       "    <tr>\n",
       "      <th>orlando</th>\n",
       "      <td>35</td>\n",
       "    </tr>\n",
       "  </tbody>\n",
       "</table>\n",
       "</div>"
      ],
      "text/plain": [
       "          temperature\n",
       "city                 \n",
       "new york           21\n",
       "chicago            14\n",
       "orlando            35"
      ]
     },
     "execution_count": 30,
     "metadata": {},
     "output_type": "execute_result"
    }
   ],
   "source": [
    "df1 = pd.DataFrame({\n",
    "    \"city\": [\"new york\",\"chicago\",\"orlando\"],\n",
    "    \"temperature\": [21,14,35],\n",
    "})\n",
    "df1.set_index('city',inplace=True)   # instead of 0,1,.. index is changes to city\n",
    "df1"
   ]
  },
  {
   "cell_type": "code",
   "execution_count": 31,
   "id": "a781fbe3",
   "metadata": {},
   "outputs": [
    {
     "data": {
      "text/html": [
       "<div>\n",
       "<style scoped>\n",
       "    .dataframe tbody tr th:only-of-type {\n",
       "        vertical-align: middle;\n",
       "    }\n",
       "\n",
       "    .dataframe tbody tr th {\n",
       "        vertical-align: top;\n",
       "    }\n",
       "\n",
       "    .dataframe thead th {\n",
       "        text-align: right;\n",
       "    }\n",
       "</style>\n",
       "<table border=\"1\" class=\"dataframe\">\n",
       "  <thead>\n",
       "    <tr style=\"text-align: right;\">\n",
       "      <th></th>\n",
       "      <th>humidity</th>\n",
       "    </tr>\n",
       "    <tr>\n",
       "      <th>city</th>\n",
       "      <th></th>\n",
       "    </tr>\n",
       "  </thead>\n",
       "  <tbody>\n",
       "    <tr>\n",
       "      <th>chicago</th>\n",
       "      <td>65</td>\n",
       "    </tr>\n",
       "    <tr>\n",
       "      <th>new york</th>\n",
       "      <td>68</td>\n",
       "    </tr>\n",
       "    <tr>\n",
       "      <th>orlando</th>\n",
       "      <td>75</td>\n",
       "    </tr>\n",
       "  </tbody>\n",
       "</table>\n",
       "</div>"
      ],
      "text/plain": [
       "          humidity\n",
       "city              \n",
       "chicago         65\n",
       "new york        68\n",
       "orlando         75"
      ]
     },
     "execution_count": 31,
     "metadata": {},
     "output_type": "execute_result"
    }
   ],
   "source": [
    "df2 = pd.DataFrame({\n",
    "    \"city\": [\"chicago\",\"new york\",\"orlando\"],\n",
    "    \"humidity\": [65,68,75],\n",
    "})\n",
    "df2.set_index('city',inplace=True)\n",
    "df2"
   ]
  },
  {
   "cell_type": "code",
   "execution_count": 32,
   "id": "4b08d7fd",
   "metadata": {},
   "outputs": [
    {
     "data": {
      "text/html": [
       "<div>\n",
       "<style scoped>\n",
       "    .dataframe tbody tr th:only-of-type {\n",
       "        vertical-align: middle;\n",
       "    }\n",
       "\n",
       "    .dataframe tbody tr th {\n",
       "        vertical-align: top;\n",
       "    }\n",
       "\n",
       "    .dataframe thead th {\n",
       "        text-align: right;\n",
       "    }\n",
       "</style>\n",
       "<table border=\"1\" class=\"dataframe\">\n",
       "  <thead>\n",
       "    <tr style=\"text-align: right;\">\n",
       "      <th></th>\n",
       "      <th>temperature</th>\n",
       "      <th>humidity</th>\n",
       "    </tr>\n",
       "    <tr>\n",
       "      <th>city</th>\n",
       "      <th></th>\n",
       "      <th></th>\n",
       "    </tr>\n",
       "  </thead>\n",
       "  <tbody>\n",
       "    <tr>\n",
       "      <th>new york</th>\n",
       "      <td>21</td>\n",
       "      <td>68</td>\n",
       "    </tr>\n",
       "    <tr>\n",
       "      <th>chicago</th>\n",
       "      <td>14</td>\n",
       "      <td>65</td>\n",
       "    </tr>\n",
       "    <tr>\n",
       "      <th>orlando</th>\n",
       "      <td>35</td>\n",
       "      <td>75</td>\n",
       "    </tr>\n",
       "  </tbody>\n",
       "</table>\n",
       "</div>"
      ],
      "text/plain": [
       "          temperature  humidity\n",
       "city                           \n",
       "new york           21        68\n",
       "chicago            14        65\n",
       "orlando            35        75"
      ]
     },
     "execution_count": 32,
     "metadata": {},
     "output_type": "execute_result"
    }
   ],
   "source": [
    "df1.join(df2)  \n",
    "\n",
    "# join works based on index. common inddex joins"
   ]
  },
  {
   "cell_type": "code",
   "execution_count": 33,
   "id": "bfed1c6f",
   "metadata": {},
   "outputs": [],
   "source": [
    "import pandas as pd\n"
   ]
  },
  {
   "cell_type": "code",
   "execution_count": 34,
   "id": "794a0078",
   "metadata": {},
   "outputs": [],
   "source": [
    "data1 = {'Name':['Jai', 'Princi', 'Gaurav', 'Anuj'], \n",
    "        'Age':[27, 24, 22, 32], \n",
    "        'Address':['Nagpur', 'Kanpur', 'Allahabad', 'Kannuaj'], \n",
    "        'Qualification':['Msc', 'MA', 'MCA', 'Phd']} \n",
    "   \n",
    "# Define a dictionary containing employee data \n",
    "data2 = {'Name':['Abhi', 'Ayushi', 'Dhiraj', 'Hitesh'], \n",
    "        'Age':[17, 14, 12, 52], \n",
    "        'Address':['Nagpur', 'Kanpur', 'Allahabad', 'Kannuaj'], \n",
    "        'Qualification':['Btech', 'B.A', 'Bcom', 'B.hons']} "
   ]
  },
  {
   "cell_type": "code",
   "execution_count": 35,
   "id": "329f401f",
   "metadata": {},
   "outputs": [],
   "source": [
    "df = pd.DataFrame(data1,index=[0, 1, 2, 3])\n",
    "\n",
    "df1 = pd.DataFrame(data2, index=[4, 5, 6, 7])\n",
    "\n",
    "# changing the dictionary to dataframe"
   ]
  },
  {
   "cell_type": "code",
   "execution_count": 36,
   "id": "4754c5f5",
   "metadata": {},
   "outputs": [
    {
     "name": "stdout",
     "output_type": "stream",
     "text": [
      "     Name  Age    Address Qualification\n",
      "0     Jai   27     Nagpur           Msc\n",
      "1  Princi   24     Kanpur            MA\n",
      "2  Gaurav   22  Allahabad           MCA\n",
      "3    Anuj   32    Kannuaj           Phd \n",
      "\n",
      "      Name  Age    Address Qualification\n",
      "4    Abhi   17     Nagpur         Btech\n",
      "5  Ayushi   14     Kanpur           B.A\n",
      "6  Dhiraj   12  Allahabad          Bcom\n",
      "7  Hitesh   52    Kannuaj        B.hons\n"
     ]
    }
   ],
   "source": [
    "print(df, \"\\n\\n\", df1) "
   ]
  },
  {
   "cell_type": "code",
   "execution_count": 37,
   "id": "53e743e4",
   "metadata": {},
   "outputs": [
    {
     "data": {
      "text/html": [
       "<div>\n",
       "<style scoped>\n",
       "    .dataframe tbody tr th:only-of-type {\n",
       "        vertical-align: middle;\n",
       "    }\n",
       "\n",
       "    .dataframe tbody tr th {\n",
       "        vertical-align: top;\n",
       "    }\n",
       "\n",
       "    .dataframe thead th {\n",
       "        text-align: right;\n",
       "    }\n",
       "</style>\n",
       "<table border=\"1\" class=\"dataframe\">\n",
       "  <thead>\n",
       "    <tr style=\"text-align: right;\">\n",
       "      <th></th>\n",
       "      <th>Name</th>\n",
       "      <th>Age</th>\n",
       "      <th>Address</th>\n",
       "      <th>Qualification</th>\n",
       "    </tr>\n",
       "  </thead>\n",
       "  <tbody>\n",
       "    <tr>\n",
       "      <th>0</th>\n",
       "      <td>Jai</td>\n",
       "      <td>27</td>\n",
       "      <td>Nagpur</td>\n",
       "      <td>Msc</td>\n",
       "    </tr>\n",
       "    <tr>\n",
       "      <th>1</th>\n",
       "      <td>Princi</td>\n",
       "      <td>24</td>\n",
       "      <td>Kanpur</td>\n",
       "      <td>MA</td>\n",
       "    </tr>\n",
       "    <tr>\n",
       "      <th>2</th>\n",
       "      <td>Gaurav</td>\n",
       "      <td>22</td>\n",
       "      <td>Allahabad</td>\n",
       "      <td>MCA</td>\n",
       "    </tr>\n",
       "    <tr>\n",
       "      <th>3</th>\n",
       "      <td>Anuj</td>\n",
       "      <td>32</td>\n",
       "      <td>Kannuaj</td>\n",
       "      <td>Phd</td>\n",
       "    </tr>\n",
       "    <tr>\n",
       "      <th>4</th>\n",
       "      <td>Abhi</td>\n",
       "      <td>17</td>\n",
       "      <td>Nagpur</td>\n",
       "      <td>Btech</td>\n",
       "    </tr>\n",
       "    <tr>\n",
       "      <th>5</th>\n",
       "      <td>Ayushi</td>\n",
       "      <td>14</td>\n",
       "      <td>Kanpur</td>\n",
       "      <td>B.A</td>\n",
       "    </tr>\n",
       "    <tr>\n",
       "      <th>6</th>\n",
       "      <td>Dhiraj</td>\n",
       "      <td>12</td>\n",
       "      <td>Allahabad</td>\n",
       "      <td>Bcom</td>\n",
       "    </tr>\n",
       "    <tr>\n",
       "      <th>7</th>\n",
       "      <td>Hitesh</td>\n",
       "      <td>52</td>\n",
       "      <td>Kannuaj</td>\n",
       "      <td>B.hons</td>\n",
       "    </tr>\n",
       "  </tbody>\n",
       "</table>\n",
       "</div>"
      ],
      "text/plain": [
       "     Name  Age    Address Qualification\n",
       "0     Jai   27     Nagpur           Msc\n",
       "1  Princi   24     Kanpur            MA\n",
       "2  Gaurav   22  Allahabad           MCA\n",
       "3    Anuj   32    Kannuaj           Phd\n",
       "4    Abhi   17     Nagpur         Btech\n",
       "5  Ayushi   14     Kanpur           B.A\n",
       "6  Dhiraj   12  Allahabad          Bcom\n",
       "7  Hitesh   52    Kannuaj        B.hons"
      ]
     },
     "execution_count": 37,
     "metadata": {},
     "output_type": "execute_result"
    }
   ],
   "source": [
    "pd.concat([df,df1])  \n",
    "\n",
    "#default axis=0, if axis =1 column vice append but\n",
    "\n",
    "#pd.concat([df,df1],axis=1)"
   ]
  },
  {
   "cell_type": "code",
   "execution_count": 38,
   "id": "b47fea85",
   "metadata": {},
   "outputs": [],
   "source": [
    "res1=pd.concat([df,df1])  "
   ]
  },
  {
   "cell_type": "code",
   "execution_count": 39,
   "id": "8fa6fc38",
   "metadata": {},
   "outputs": [
    {
     "data": {
      "text/html": [
       "<div>\n",
       "<style scoped>\n",
       "    .dataframe tbody tr th:only-of-type {\n",
       "        vertical-align: middle;\n",
       "    }\n",
       "\n",
       "    .dataframe tbody tr th {\n",
       "        vertical-align: top;\n",
       "    }\n",
       "\n",
       "    .dataframe thead th {\n",
       "        text-align: right;\n",
       "    }\n",
       "</style>\n",
       "<table border=\"1\" class=\"dataframe\">\n",
       "  <thead>\n",
       "    <tr style=\"text-align: right;\">\n",
       "      <th></th>\n",
       "      <th>Name</th>\n",
       "      <th>Age</th>\n",
       "      <th>Address</th>\n",
       "      <th>Qualification</th>\n",
       "    </tr>\n",
       "  </thead>\n",
       "  <tbody>\n",
       "    <tr>\n",
       "      <th>0</th>\n",
       "      <td>Jai</td>\n",
       "      <td>27</td>\n",
       "      <td>Nagpur</td>\n",
       "      <td>Msc</td>\n",
       "    </tr>\n",
       "    <tr>\n",
       "      <th>1</th>\n",
       "      <td>Princi</td>\n",
       "      <td>24</td>\n",
       "      <td>Kanpur</td>\n",
       "      <td>MA</td>\n",
       "    </tr>\n",
       "    <tr>\n",
       "      <th>2</th>\n",
       "      <td>Gaurav</td>\n",
       "      <td>22</td>\n",
       "      <td>Allahabad</td>\n",
       "      <td>MCA</td>\n",
       "    </tr>\n",
       "    <tr>\n",
       "      <th>3</th>\n",
       "      <td>Anuj</td>\n",
       "      <td>32</td>\n",
       "      <td>Kannuaj</td>\n",
       "      <td>Phd</td>\n",
       "    </tr>\n",
       "    <tr>\n",
       "      <th>4</th>\n",
       "      <td>Abhi</td>\n",
       "      <td>17</td>\n",
       "      <td>Nagpur</td>\n",
       "      <td>Btech</td>\n",
       "    </tr>\n",
       "    <tr>\n",
       "      <th>5</th>\n",
       "      <td>Ayushi</td>\n",
       "      <td>14</td>\n",
       "      <td>Kanpur</td>\n",
       "      <td>B.A</td>\n",
       "    </tr>\n",
       "    <tr>\n",
       "      <th>6</th>\n",
       "      <td>Dhiraj</td>\n",
       "      <td>12</td>\n",
       "      <td>Allahabad</td>\n",
       "      <td>Bcom</td>\n",
       "    </tr>\n",
       "    <tr>\n",
       "      <th>7</th>\n",
       "      <td>Hitesh</td>\n",
       "      <td>52</td>\n",
       "      <td>Kannuaj</td>\n",
       "      <td>B.hons</td>\n",
       "    </tr>\n",
       "  </tbody>\n",
       "</table>\n",
       "</div>"
      ],
      "text/plain": [
       "     Name  Age    Address Qualification\n",
       "0     Jai   27     Nagpur           Msc\n",
       "1  Princi   24     Kanpur            MA\n",
       "2  Gaurav   22  Allahabad           MCA\n",
       "3    Anuj   32    Kannuaj           Phd\n",
       "4    Abhi   17     Nagpur         Btech\n",
       "5  Ayushi   14     Kanpur           B.A\n",
       "6  Dhiraj   12  Allahabad          Bcom\n",
       "7  Hitesh   52    Kannuaj        B.hons"
      ]
     },
     "execution_count": 39,
     "metadata": {},
     "output_type": "execute_result"
    }
   ],
   "source": [
    "res1.drop_duplicates()"
   ]
  },
  {
   "cell_type": "code",
   "execution_count": 40,
   "id": "149b0bb6",
   "metadata": {},
   "outputs": [],
   "source": [
    "data1 = {'Name':['Jai', 'Princi', 'Gaurav', 'Anuj', 'Riya'], \n",
    "        'Age':[27, 24, 22, 32, 26], \n",
    "        'Address':['Nagpur', 'Kanpur', 'Allahabad', 'Kannuaj', 'Kochi'], \n",
    "        'Qualification':['Msc', 'MA', 'MCA', 'Phd', 'Btech']} \n",
    "   \n",
    "# Define a dictionary containing employee data \n",
    "data2 = {'Name':['Abhi', 'Ayushi', 'Dhiraj', 'Hitesh', 'Riya'], \n",
    "        'Age':[17, 14, 12, 52, 26], \n",
    "        'Address':['Nagpur', 'Kanpur', 'Allahabad', 'Kannuaj', 'Chennai'], \n",
    "        'Qualification':['Btech', 'B.A', 'Bcom', 'B.hons','Btech']} "
   ]
  },
  {
   "cell_type": "code",
   "execution_count": 41,
   "id": "f81c1e16",
   "metadata": {},
   "outputs": [],
   "source": [
    "df1=pd.DataFrame(data1,index=[1,2,3,4,5])\n",
    "\n",
    "df2=pd.DataFrame(data2,index=[4,5,6,7,8])"
   ]
  },
  {
   "cell_type": "code",
   "execution_count": 42,
   "id": "3cc48a90",
   "metadata": {},
   "outputs": [
    {
     "data": {
      "text/html": [
       "<div>\n",
       "<style scoped>\n",
       "    .dataframe tbody tr th:only-of-type {\n",
       "        vertical-align: middle;\n",
       "    }\n",
       "\n",
       "    .dataframe tbody tr th {\n",
       "        vertical-align: top;\n",
       "    }\n",
       "\n",
       "    .dataframe thead th {\n",
       "        text-align: right;\n",
       "    }\n",
       "</style>\n",
       "<table border=\"1\" class=\"dataframe\">\n",
       "  <thead>\n",
       "    <tr style=\"text-align: right;\">\n",
       "      <th></th>\n",
       "      <th>Name</th>\n",
       "      <th>Age</th>\n",
       "      <th>Address</th>\n",
       "      <th>Qualification</th>\n",
       "    </tr>\n",
       "  </thead>\n",
       "  <tbody>\n",
       "    <tr>\n",
       "      <th>1</th>\n",
       "      <td>Jai</td>\n",
       "      <td>27</td>\n",
       "      <td>Nagpur</td>\n",
       "      <td>Msc</td>\n",
       "    </tr>\n",
       "    <tr>\n",
       "      <th>2</th>\n",
       "      <td>Princi</td>\n",
       "      <td>24</td>\n",
       "      <td>Kanpur</td>\n",
       "      <td>MA</td>\n",
       "    </tr>\n",
       "    <tr>\n",
       "      <th>3</th>\n",
       "      <td>Gaurav</td>\n",
       "      <td>22</td>\n",
       "      <td>Allahabad</td>\n",
       "      <td>MCA</td>\n",
       "    </tr>\n",
       "    <tr>\n",
       "      <th>4</th>\n",
       "      <td>Anuj</td>\n",
       "      <td>32</td>\n",
       "      <td>Kannuaj</td>\n",
       "      <td>Phd</td>\n",
       "    </tr>\n",
       "    <tr>\n",
       "      <th>5</th>\n",
       "      <td>Riya</td>\n",
       "      <td>26</td>\n",
       "      <td>Kochi</td>\n",
       "      <td>Btech</td>\n",
       "    </tr>\n",
       "    <tr>\n",
       "      <th>4</th>\n",
       "      <td>Abhi</td>\n",
       "      <td>17</td>\n",
       "      <td>Nagpur</td>\n",
       "      <td>Btech</td>\n",
       "    </tr>\n",
       "    <tr>\n",
       "      <th>5</th>\n",
       "      <td>Ayushi</td>\n",
       "      <td>14</td>\n",
       "      <td>Kanpur</td>\n",
       "      <td>B.A</td>\n",
       "    </tr>\n",
       "    <tr>\n",
       "      <th>6</th>\n",
       "      <td>Dhiraj</td>\n",
       "      <td>12</td>\n",
       "      <td>Allahabad</td>\n",
       "      <td>Bcom</td>\n",
       "    </tr>\n",
       "    <tr>\n",
       "      <th>7</th>\n",
       "      <td>Hitesh</td>\n",
       "      <td>52</td>\n",
       "      <td>Kannuaj</td>\n",
       "      <td>B.hons</td>\n",
       "    </tr>\n",
       "    <tr>\n",
       "      <th>8</th>\n",
       "      <td>Riya</td>\n",
       "      <td>26</td>\n",
       "      <td>Chennai</td>\n",
       "      <td>Btech</td>\n",
       "    </tr>\n",
       "  </tbody>\n",
       "</table>\n",
       "</div>"
      ],
      "text/plain": [
       "     Name  Age    Address Qualification\n",
       "1     Jai   27     Nagpur           Msc\n",
       "2  Princi   24     Kanpur            MA\n",
       "3  Gaurav   22  Allahabad           MCA\n",
       "4    Anuj   32    Kannuaj           Phd\n",
       "5    Riya   26      Kochi         Btech\n",
       "4    Abhi   17     Nagpur         Btech\n",
       "5  Ayushi   14     Kanpur           B.A\n",
       "6  Dhiraj   12  Allahabad          Bcom\n",
       "7  Hitesh   52    Kannuaj        B.hons\n",
       "8    Riya   26    Chennai         Btech"
      ]
     },
     "execution_count": 42,
     "metadata": {},
     "output_type": "execute_result"
    }
   ],
   "source": [
    "res1=pd.concat([df1,df2])  \n",
    "res1"
   ]
  },
  {
   "cell_type": "code",
   "execution_count": 43,
   "id": "e289a7db",
   "metadata": {},
   "outputs": [
    {
     "data": {
      "text/html": [
       "<div>\n",
       "<style scoped>\n",
       "    .dataframe tbody tr th:only-of-type {\n",
       "        vertical-align: middle;\n",
       "    }\n",
       "\n",
       "    .dataframe tbody tr th {\n",
       "        vertical-align: top;\n",
       "    }\n",
       "\n",
       "    .dataframe thead th {\n",
       "        text-align: right;\n",
       "    }\n",
       "</style>\n",
       "<table border=\"1\" class=\"dataframe\">\n",
       "  <thead>\n",
       "    <tr style=\"text-align: right;\">\n",
       "      <th></th>\n",
       "      <th>Name</th>\n",
       "      <th>Age</th>\n",
       "      <th>Address</th>\n",
       "      <th>Qualification</th>\n",
       "    </tr>\n",
       "  </thead>\n",
       "  <tbody>\n",
       "    <tr>\n",
       "      <th>1</th>\n",
       "      <td>Jai</td>\n",
       "      <td>27</td>\n",
       "      <td>Nagpur</td>\n",
       "      <td>Msc</td>\n",
       "    </tr>\n",
       "    <tr>\n",
       "      <th>2</th>\n",
       "      <td>Princi</td>\n",
       "      <td>24</td>\n",
       "      <td>Kanpur</td>\n",
       "      <td>MA</td>\n",
       "    </tr>\n",
       "    <tr>\n",
       "      <th>3</th>\n",
       "      <td>Gaurav</td>\n",
       "      <td>22</td>\n",
       "      <td>Allahabad</td>\n",
       "      <td>MCA</td>\n",
       "    </tr>\n",
       "    <tr>\n",
       "      <th>4</th>\n",
       "      <td>Anuj</td>\n",
       "      <td>32</td>\n",
       "      <td>Kannuaj</td>\n",
       "      <td>Phd</td>\n",
       "    </tr>\n",
       "    <tr>\n",
       "      <th>5</th>\n",
       "      <td>Riya</td>\n",
       "      <td>26</td>\n",
       "      <td>Kochi</td>\n",
       "      <td>Btech</td>\n",
       "    </tr>\n",
       "    <tr>\n",
       "      <th>4</th>\n",
       "      <td>Abhi</td>\n",
       "      <td>17</td>\n",
       "      <td>Nagpur</td>\n",
       "      <td>Btech</td>\n",
       "    </tr>\n",
       "    <tr>\n",
       "      <th>5</th>\n",
       "      <td>Ayushi</td>\n",
       "      <td>14</td>\n",
       "      <td>Kanpur</td>\n",
       "      <td>B.A</td>\n",
       "    </tr>\n",
       "    <tr>\n",
       "      <th>6</th>\n",
       "      <td>Dhiraj</td>\n",
       "      <td>12</td>\n",
       "      <td>Allahabad</td>\n",
       "      <td>Bcom</td>\n",
       "    </tr>\n",
       "    <tr>\n",
       "      <th>7</th>\n",
       "      <td>Hitesh</td>\n",
       "      <td>52</td>\n",
       "      <td>Kannuaj</td>\n",
       "      <td>B.hons</td>\n",
       "    </tr>\n",
       "    <tr>\n",
       "      <th>8</th>\n",
       "      <td>Riya</td>\n",
       "      <td>26</td>\n",
       "      <td>Chennai</td>\n",
       "      <td>Btech</td>\n",
       "    </tr>\n",
       "  </tbody>\n",
       "</table>\n",
       "</div>"
      ],
      "text/plain": [
       "     Name  Age    Address Qualification\n",
       "1     Jai   27     Nagpur           Msc\n",
       "2  Princi   24     Kanpur            MA\n",
       "3  Gaurav   22  Allahabad           MCA\n",
       "4    Anuj   32    Kannuaj           Phd\n",
       "5    Riya   26      Kochi         Btech\n",
       "4    Abhi   17     Nagpur         Btech\n",
       "5  Ayushi   14     Kanpur           B.A\n",
       "6  Dhiraj   12  Allahabad          Bcom\n",
       "7  Hitesh   52    Kannuaj        B.hons\n",
       "8    Riya   26    Chennai         Btech"
      ]
     },
     "execution_count": 43,
     "metadata": {},
     "output_type": "execute_result"
    }
   ],
   "source": [
    "res1.drop_duplicates() #drops the data if the entire row is same as another"
   ]
  },
  {
   "cell_type": "raw",
   "id": "3818c10e",
   "metadata": {},
   "source": [
    "res1.drop_duplicates(['Riya'],keep='last   # keeps last. defaultly deletes last"
   ]
  },
  {
   "cell_type": "code",
   "execution_count": 44,
   "id": "98c555be",
   "metadata": {},
   "outputs": [
    {
     "name": "stdout",
     "output_type": "stream",
     "text": [
      "     Name  Age    Address Qualification\n",
      "0     Jai   27     Nagpur           Msc\n",
      "1  Princi   24     Kanpur            MA\n",
      "2  Gaurav   22  Allahabad           MCA\n",
      "3    Anuj   32    Kannuaj           Phd\n",
      "4    Riya   26      Kochi         Btech \n",
      "\n",
      "      Name  Age    Address Qualification\n",
      "0    Abhi   17     Nagpur         Btech\n",
      "1  Ayushi   14     Kanpur           B.A\n",
      "2  Dhiraj   12  Allahabad          Bcom\n",
      "3  Hitesh   52    Kannuaj        B.hons\n",
      "4    Riya   26    Chennai         Btech\n"
     ]
    },
    {
     "data": {
      "text/html": [
       "<div>\n",
       "<style scoped>\n",
       "    .dataframe tbody tr th:only-of-type {\n",
       "        vertical-align: middle;\n",
       "    }\n",
       "\n",
       "    .dataframe tbody tr th {\n",
       "        vertical-align: top;\n",
       "    }\n",
       "\n",
       "    .dataframe thead th {\n",
       "        text-align: right;\n",
       "    }\n",
       "</style>\n",
       "<table border=\"1\" class=\"dataframe\">\n",
       "  <thead>\n",
       "    <tr style=\"text-align: right;\">\n",
       "      <th></th>\n",
       "      <th>Name</th>\n",
       "      <th>Age</th>\n",
       "      <th>Address</th>\n",
       "      <th>Qualification</th>\n",
       "    </tr>\n",
       "  </thead>\n",
       "  <tbody>\n",
       "    <tr>\n",
       "      <th>0</th>\n",
       "      <td>Jai</td>\n",
       "      <td>27</td>\n",
       "      <td>Nagpur</td>\n",
       "      <td>Msc</td>\n",
       "    </tr>\n",
       "    <tr>\n",
       "      <th>1</th>\n",
       "      <td>Princi</td>\n",
       "      <td>24</td>\n",
       "      <td>Kanpur</td>\n",
       "      <td>MA</td>\n",
       "    </tr>\n",
       "    <tr>\n",
       "      <th>2</th>\n",
       "      <td>Gaurav</td>\n",
       "      <td>22</td>\n",
       "      <td>Allahabad</td>\n",
       "      <td>MCA</td>\n",
       "    </tr>\n",
       "    <tr>\n",
       "      <th>3</th>\n",
       "      <td>Anuj</td>\n",
       "      <td>32</td>\n",
       "      <td>Kannuaj</td>\n",
       "      <td>Phd</td>\n",
       "    </tr>\n",
       "    <tr>\n",
       "      <th>4</th>\n",
       "      <td>Riya</td>\n",
       "      <td>26</td>\n",
       "      <td>Kochi</td>\n",
       "      <td>Btech</td>\n",
       "    </tr>\n",
       "    <tr>\n",
       "      <th>0</th>\n",
       "      <td>Abhi</td>\n",
       "      <td>17</td>\n",
       "      <td>Nagpur</td>\n",
       "      <td>Btech</td>\n",
       "    </tr>\n",
       "    <tr>\n",
       "      <th>1</th>\n",
       "      <td>Ayushi</td>\n",
       "      <td>14</td>\n",
       "      <td>Kanpur</td>\n",
       "      <td>B.A</td>\n",
       "    </tr>\n",
       "    <tr>\n",
       "      <th>2</th>\n",
       "      <td>Dhiraj</td>\n",
       "      <td>12</td>\n",
       "      <td>Allahabad</td>\n",
       "      <td>Bcom</td>\n",
       "    </tr>\n",
       "    <tr>\n",
       "      <th>3</th>\n",
       "      <td>Hitesh</td>\n",
       "      <td>52</td>\n",
       "      <td>Kannuaj</td>\n",
       "      <td>B.hons</td>\n",
       "    </tr>\n",
       "    <tr>\n",
       "      <th>4</th>\n",
       "      <td>Riya</td>\n",
       "      <td>26</td>\n",
       "      <td>Chennai</td>\n",
       "      <td>Btech</td>\n",
       "    </tr>\n",
       "  </tbody>\n",
       "</table>\n",
       "</div>"
      ],
      "text/plain": [
       "     Name  Age    Address Qualification\n",
       "0     Jai   27     Nagpur           Msc\n",
       "1  Princi   24     Kanpur            MA\n",
       "2  Gaurav   22  Allahabad           MCA\n",
       "3    Anuj   32    Kannuaj           Phd\n",
       "4    Riya   26      Kochi         Btech\n",
       "0    Abhi   17     Nagpur         Btech\n",
       "1  Ayushi   14     Kanpur           B.A\n",
       "2  Dhiraj   12  Allahabad          Bcom\n",
       "3  Hitesh   52    Kannuaj        B.hons\n",
       "4    Riya   26    Chennai         Btech"
      ]
     },
     "execution_count": 44,
     "metadata": {},
     "output_type": "execute_result"
    }
   ],
   "source": [
    "# Convert the dictionary into DataFrame  \n",
    "df = pd.DataFrame(data1,index=[0, 1, 2, 3,4])\n",
    " \n",
    "# Convert the dictionary into DataFrame  \n",
    "df1 = pd.DataFrame(data2, index=[0, 1, 2, 3,4])\n",
    "\n",
    "print(df, \"\\n\\n\", df1)\n",
    "      \n",
    "      \n",
    "res1 = pd.concat([df,df1])\n",
    "res1"
   ]
  },
  {
   "cell_type": "code",
   "execution_count": 45,
   "id": "c5593167",
   "metadata": {},
   "outputs": [
    {
     "data": {
      "text/html": [
       "<div>\n",
       "<style scoped>\n",
       "    .dataframe tbody tr th:only-of-type {\n",
       "        vertical-align: middle;\n",
       "    }\n",
       "\n",
       "    .dataframe tbody tr th {\n",
       "        vertical-align: top;\n",
       "    }\n",
       "\n",
       "    .dataframe thead th {\n",
       "        text-align: right;\n",
       "    }\n",
       "</style>\n",
       "<table border=\"1\" class=\"dataframe\">\n",
       "  <thead>\n",
       "    <tr style=\"text-align: right;\">\n",
       "      <th></th>\n",
       "      <th>Name</th>\n",
       "      <th>Age</th>\n",
       "      <th>Address</th>\n",
       "      <th>Qualification</th>\n",
       "    </tr>\n",
       "  </thead>\n",
       "  <tbody>\n",
       "    <tr>\n",
       "      <th>0</th>\n",
       "      <td>Jai</td>\n",
       "      <td>27</td>\n",
       "      <td>Nagpur</td>\n",
       "      <td>Msc</td>\n",
       "    </tr>\n",
       "    <tr>\n",
       "      <th>1</th>\n",
       "      <td>Princi</td>\n",
       "      <td>24</td>\n",
       "      <td>Kanpur</td>\n",
       "      <td>MA</td>\n",
       "    </tr>\n",
       "    <tr>\n",
       "      <th>2</th>\n",
       "      <td>Gaurav</td>\n",
       "      <td>22</td>\n",
       "      <td>Allahabad</td>\n",
       "      <td>MCA</td>\n",
       "    </tr>\n",
       "    <tr>\n",
       "      <th>3</th>\n",
       "      <td>Anuj</td>\n",
       "      <td>32</td>\n",
       "      <td>Kannuaj</td>\n",
       "      <td>Phd</td>\n",
       "    </tr>\n",
       "    <tr>\n",
       "      <th>4</th>\n",
       "      <td>Riya</td>\n",
       "      <td>26</td>\n",
       "      <td>Kochi</td>\n",
       "      <td>Btech</td>\n",
       "    </tr>\n",
       "    <tr>\n",
       "      <th>5</th>\n",
       "      <td>Abhi</td>\n",
       "      <td>17</td>\n",
       "      <td>Nagpur</td>\n",
       "      <td>Btech</td>\n",
       "    </tr>\n",
       "    <tr>\n",
       "      <th>6</th>\n",
       "      <td>Ayushi</td>\n",
       "      <td>14</td>\n",
       "      <td>Kanpur</td>\n",
       "      <td>B.A</td>\n",
       "    </tr>\n",
       "    <tr>\n",
       "      <th>7</th>\n",
       "      <td>Dhiraj</td>\n",
       "      <td>12</td>\n",
       "      <td>Allahabad</td>\n",
       "      <td>Bcom</td>\n",
       "    </tr>\n",
       "    <tr>\n",
       "      <th>8</th>\n",
       "      <td>Hitesh</td>\n",
       "      <td>52</td>\n",
       "      <td>Kannuaj</td>\n",
       "      <td>B.hons</td>\n",
       "    </tr>\n",
       "    <tr>\n",
       "      <th>9</th>\n",
       "      <td>Riya</td>\n",
       "      <td>26</td>\n",
       "      <td>Chennai</td>\n",
       "      <td>Btech</td>\n",
       "    </tr>\n",
       "  </tbody>\n",
       "</table>\n",
       "</div>"
      ],
      "text/plain": [
       "     Name  Age    Address Qualification\n",
       "0     Jai   27     Nagpur           Msc\n",
       "1  Princi   24     Kanpur            MA\n",
       "2  Gaurav   22  Allahabad           MCA\n",
       "3    Anuj   32    Kannuaj           Phd\n",
       "4    Riya   26      Kochi         Btech\n",
       "5    Abhi   17     Nagpur         Btech\n",
       "6  Ayushi   14     Kanpur           B.A\n",
       "7  Dhiraj   12  Allahabad          Bcom\n",
       "8  Hitesh   52    Kannuaj        B.hons\n",
       "9    Riya   26    Chennai         Btech"
      ]
     },
     "execution_count": 45,
     "metadata": {},
     "output_type": "execute_result"
    }
   ],
   "source": [
    "res1 = pd.concat([df,df1],ignore_index=True)\n",
    "res1"
   ]
  },
  {
   "cell_type": "code",
   "execution_count": 46,
   "id": "0e7e42b0",
   "metadata": {},
   "outputs": [
    {
     "data": {
      "text/html": [
       "<div>\n",
       "<style scoped>\n",
       "    .dataframe tbody tr th:only-of-type {\n",
       "        vertical-align: middle;\n",
       "    }\n",
       "\n",
       "    .dataframe tbody tr th {\n",
       "        vertical-align: top;\n",
       "    }\n",
       "\n",
       "    .dataframe thead th {\n",
       "        text-align: right;\n",
       "    }\n",
       "</style>\n",
       "<table border=\"1\" class=\"dataframe\">\n",
       "  <thead>\n",
       "    <tr style=\"text-align: right;\">\n",
       "      <th></th>\n",
       "      <th></th>\n",
       "      <th>Name</th>\n",
       "      <th>Age</th>\n",
       "      <th>Address</th>\n",
       "      <th>Qualification</th>\n",
       "    </tr>\n",
       "  </thead>\n",
       "  <tbody>\n",
       "    <tr>\n",
       "      <th rowspan=\"5\" valign=\"top\">df1</th>\n",
       "      <th>0</th>\n",
       "      <td>Jai</td>\n",
       "      <td>27</td>\n",
       "      <td>Nagpur</td>\n",
       "      <td>Msc</td>\n",
       "    </tr>\n",
       "    <tr>\n",
       "      <th>1</th>\n",
       "      <td>Princi</td>\n",
       "      <td>24</td>\n",
       "      <td>Kanpur</td>\n",
       "      <td>MA</td>\n",
       "    </tr>\n",
       "    <tr>\n",
       "      <th>2</th>\n",
       "      <td>Gaurav</td>\n",
       "      <td>22</td>\n",
       "      <td>Allahabad</td>\n",
       "      <td>MCA</td>\n",
       "    </tr>\n",
       "    <tr>\n",
       "      <th>3</th>\n",
       "      <td>Anuj</td>\n",
       "      <td>32</td>\n",
       "      <td>Kannuaj</td>\n",
       "      <td>Phd</td>\n",
       "    </tr>\n",
       "    <tr>\n",
       "      <th>4</th>\n",
       "      <td>Riya</td>\n",
       "      <td>26</td>\n",
       "      <td>Kochi</td>\n",
       "      <td>Btech</td>\n",
       "    </tr>\n",
       "    <tr>\n",
       "      <th rowspan=\"5\" valign=\"top\">df2</th>\n",
       "      <th>0</th>\n",
       "      <td>Abhi</td>\n",
       "      <td>17</td>\n",
       "      <td>Nagpur</td>\n",
       "      <td>Btech</td>\n",
       "    </tr>\n",
       "    <tr>\n",
       "      <th>1</th>\n",
       "      <td>Ayushi</td>\n",
       "      <td>14</td>\n",
       "      <td>Kanpur</td>\n",
       "      <td>B.A</td>\n",
       "    </tr>\n",
       "    <tr>\n",
       "      <th>2</th>\n",
       "      <td>Dhiraj</td>\n",
       "      <td>12</td>\n",
       "      <td>Allahabad</td>\n",
       "      <td>Bcom</td>\n",
       "    </tr>\n",
       "    <tr>\n",
       "      <th>3</th>\n",
       "      <td>Hitesh</td>\n",
       "      <td>52</td>\n",
       "      <td>Kannuaj</td>\n",
       "      <td>B.hons</td>\n",
       "    </tr>\n",
       "    <tr>\n",
       "      <th>4</th>\n",
       "      <td>Riya</td>\n",
       "      <td>26</td>\n",
       "      <td>Chennai</td>\n",
       "      <td>Btech</td>\n",
       "    </tr>\n",
       "  </tbody>\n",
       "</table>\n",
       "</div>"
      ],
      "text/plain": [
       "         Name  Age    Address Qualification\n",
       "df1 0     Jai   27     Nagpur           Msc\n",
       "    1  Princi   24     Kanpur            MA\n",
       "    2  Gaurav   22  Allahabad           MCA\n",
       "    3    Anuj   32    Kannuaj           Phd\n",
       "    4    Riya   26      Kochi         Btech\n",
       "df2 0    Abhi   17     Nagpur         Btech\n",
       "    1  Ayushi   14     Kanpur           B.A\n",
       "    2  Dhiraj   12  Allahabad          Bcom\n",
       "    3  Hitesh   52    Kannuaj        B.hons\n",
       "    4    Riya   26    Chennai         Btech"
      ]
     },
     "execution_count": 46,
     "metadata": {},
     "output_type": "execute_result"
    }
   ],
   "source": [
    "res1 = pd.concat([df,df1], keys=[\"df1\", \"df2\"])\n",
    "res1"
   ]
  },
  {
   "cell_type": "code",
   "execution_count": 47,
   "id": "f832780d",
   "metadata": {},
   "outputs": [
    {
     "data": {
      "text/html": [
       "<div>\n",
       "<style scoped>\n",
       "    .dataframe tbody tr th:only-of-type {\n",
       "        vertical-align: middle;\n",
       "    }\n",
       "\n",
       "    .dataframe tbody tr th {\n",
       "        vertical-align: top;\n",
       "    }\n",
       "\n",
       "    .dataframe thead th {\n",
       "        text-align: right;\n",
       "    }\n",
       "</style>\n",
       "<table border=\"1\" class=\"dataframe\">\n",
       "  <thead>\n",
       "    <tr style=\"text-align: right;\">\n",
       "      <th></th>\n",
       "      <th>Name</th>\n",
       "      <th>Age</th>\n",
       "      <th>Address</th>\n",
       "      <th>Qualification</th>\n",
       "    </tr>\n",
       "  </thead>\n",
       "  <tbody>\n",
       "    <tr>\n",
       "      <th>0</th>\n",
       "      <td>Abhi</td>\n",
       "      <td>17</td>\n",
       "      <td>Nagpur</td>\n",
       "      <td>Btech</td>\n",
       "    </tr>\n",
       "    <tr>\n",
       "      <th>1</th>\n",
       "      <td>Ayushi</td>\n",
       "      <td>14</td>\n",
       "      <td>Kanpur</td>\n",
       "      <td>B.A</td>\n",
       "    </tr>\n",
       "    <tr>\n",
       "      <th>2</th>\n",
       "      <td>Dhiraj</td>\n",
       "      <td>12</td>\n",
       "      <td>Allahabad</td>\n",
       "      <td>Bcom</td>\n",
       "    </tr>\n",
       "    <tr>\n",
       "      <th>3</th>\n",
       "      <td>Hitesh</td>\n",
       "      <td>52</td>\n",
       "      <td>Kannuaj</td>\n",
       "      <td>B.hons</td>\n",
       "    </tr>\n",
       "    <tr>\n",
       "      <th>4</th>\n",
       "      <td>Riya</td>\n",
       "      <td>26</td>\n",
       "      <td>Chennai</td>\n",
       "      <td>Btech</td>\n",
       "    </tr>\n",
       "  </tbody>\n",
       "</table>\n",
       "</div>"
      ],
      "text/plain": [
       "     Name  Age    Address Qualification\n",
       "0    Abhi   17     Nagpur         Btech\n",
       "1  Ayushi   14     Kanpur           B.A\n",
       "2  Dhiraj   12  Allahabad          Bcom\n",
       "3  Hitesh   52    Kannuaj        B.hons\n",
       "4    Riya   26    Chennai         Btech"
      ]
     },
     "execution_count": 47,
     "metadata": {},
     "output_type": "execute_result"
    }
   ],
   "source": [
    "res1.loc['df2']"
   ]
  },
  {
   "cell_type": "code",
   "execution_count": 48,
   "id": "5b861800",
   "metadata": {},
   "outputs": [
    {
     "data": {
      "text/html": [
       "<div>\n",
       "<style scoped>\n",
       "    .dataframe tbody tr th:only-of-type {\n",
       "        vertical-align: middle;\n",
       "    }\n",
       "\n",
       "    .dataframe tbody tr th {\n",
       "        vertical-align: top;\n",
       "    }\n",
       "\n",
       "    .dataframe thead th {\n",
       "        text-align: right;\n",
       "    }\n",
       "</style>\n",
       "<table border=\"1\" class=\"dataframe\">\n",
       "  <thead>\n",
       "    <tr style=\"text-align: right;\">\n",
       "      <th></th>\n",
       "      <th>Name</th>\n",
       "      <th>Age</th>\n",
       "      <th>Address</th>\n",
       "      <th>Qualification</th>\n",
       "    </tr>\n",
       "  </thead>\n",
       "  <tbody>\n",
       "    <tr>\n",
       "      <th>0</th>\n",
       "      <td>Jai</td>\n",
       "      <td>27</td>\n",
       "      <td>Nagpur</td>\n",
       "      <td>Msc</td>\n",
       "    </tr>\n",
       "    <tr>\n",
       "      <th>1</th>\n",
       "      <td>Princi</td>\n",
       "      <td>24</td>\n",
       "      <td>Kanpur</td>\n",
       "      <td>MA</td>\n",
       "    </tr>\n",
       "    <tr>\n",
       "      <th>2</th>\n",
       "      <td>Gaurav</td>\n",
       "      <td>22</td>\n",
       "      <td>Allahabad</td>\n",
       "      <td>MCA</td>\n",
       "    </tr>\n",
       "    <tr>\n",
       "      <th>3</th>\n",
       "      <td>Anuj</td>\n",
       "      <td>32</td>\n",
       "      <td>Kannuaj</td>\n",
       "      <td>Phd</td>\n",
       "    </tr>\n",
       "    <tr>\n",
       "      <th>4</th>\n",
       "      <td>Riya</td>\n",
       "      <td>26</td>\n",
       "      <td>Kochi</td>\n",
       "      <td>Btech</td>\n",
       "    </tr>\n",
       "    <tr>\n",
       "      <th>0</th>\n",
       "      <td>Abhi</td>\n",
       "      <td>17</td>\n",
       "      <td>Nagpur</td>\n",
       "      <td>Btech</td>\n",
       "    </tr>\n",
       "    <tr>\n",
       "      <th>1</th>\n",
       "      <td>Ayushi</td>\n",
       "      <td>14</td>\n",
       "      <td>Kanpur</td>\n",
       "      <td>B.A</td>\n",
       "    </tr>\n",
       "    <tr>\n",
       "      <th>2</th>\n",
       "      <td>Dhiraj</td>\n",
       "      <td>12</td>\n",
       "      <td>Allahabad</td>\n",
       "      <td>Bcom</td>\n",
       "    </tr>\n",
       "    <tr>\n",
       "      <th>3</th>\n",
       "      <td>Hitesh</td>\n",
       "      <td>52</td>\n",
       "      <td>Kannuaj</td>\n",
       "      <td>B.hons</td>\n",
       "    </tr>\n",
       "    <tr>\n",
       "      <th>4</th>\n",
       "      <td>Riya</td>\n",
       "      <td>26</td>\n",
       "      <td>Chennai</td>\n",
       "      <td>Btech</td>\n",
       "    </tr>\n",
       "  </tbody>\n",
       "</table>\n",
       "</div>"
      ],
      "text/plain": [
       "     Name  Age    Address Qualification\n",
       "0     Jai   27     Nagpur           Msc\n",
       "1  Princi   24     Kanpur            MA\n",
       "2  Gaurav   22  Allahabad           MCA\n",
       "3    Anuj   32    Kannuaj           Phd\n",
       "4    Riya   26      Kochi         Btech\n",
       "0    Abhi   17     Nagpur         Btech\n",
       "1  Ayushi   14     Kanpur           B.A\n",
       "2  Dhiraj   12  Allahabad          Bcom\n",
       "3  Hitesh   52    Kannuaj        B.hons\n",
       "4    Riya   26    Chennai         Btech"
      ]
     },
     "execution_count": 48,
     "metadata": {},
     "output_type": "execute_result"
    }
   ],
   "source": [
    "# Concatenation using append\n",
    "\n",
    "res = df.append(df1)\n",
    "res"
   ]
  },
  {
   "cell_type": "code",
   "execution_count": null,
   "id": "a57d4217",
   "metadata": {},
   "outputs": [],
   "source": [
    "\n",
    "\n",
    "#Plotting\n",
    "\n"
   ]
  },
  {
   "cell_type": "code",
   "execution_count": 49,
   "id": "d7cdb979",
   "metadata": {},
   "outputs": [
    {
     "data": {
      "image/png": "[encoded data removed]",
      "text/plain": [
       "<Figure size 432x288 with 1 Axes>"
      ]
     },
     "metadata": {
      "needs_background": "light"
     },
     "output_type": "display_data"
    }
   ],
   "source": [
    "import pandas as pd\n",
    "import matplotlib.pyplot as plt\n",
    "\n",
    "df = pd.read_csv('data/data.csv')\n",
    "\n",
    "df.plot()\n",
    "\n",
    "plt.show()"
   ]
  },
  {
   "cell_type": "code",
   "execution_count": 50,
   "id": "45bc134b",
   "metadata": {},
   "outputs": [
    {
     "data": {
      "image/png": "[encoded data removed]",
      "text/plain": [
       "<Figure size 432x288 with 1 Axes>"
      ]
     },
     "metadata": {
      "needs_background": "light"
     },
     "output_type": "display_data"
    }
   ],
   "source": [
    "df.plot(kind = 'scatter', x = 'Duration', y = 'Maxpulse')\n",
    "\n",
    "plt.show()"
   ]
  },
  {
   "cell_type": "code",
   "execution_count": 51,
   "id": "7d9bfdcc",
   "metadata": {},
   "outputs": [
    {
     "data": {
      "image/png": "[encoded data removed]",
      "text/plain": [
       "<Figure size 432x288 with 1 Axes>"
      ]
     },
     "metadata": {
      "needs_background": "light"
     },
     "output_type": "display_data"
    }
   ],
   "source": [
    "df.plot(kind = 'scatter', x = 'Duration', y = 'Calories')\n",
    "\n",
    "plt.show()"
   ]
  },
  {
   "cell_type": "code",
   "execution_count": 52,
   "id": "3f52b888",
   "metadata": {},
   "outputs": [
    {
     "data": {
      "text/plain": [
       "<AxesSubplot:ylabel='Frequency'>"
      ]
     },
     "execution_count": 52,
     "metadata": {},
     "output_type": "execute_result"
    },
    {
     "data": {
      "image/png": "[encoded data removed]",
      "text/plain": [
       "<Figure size 432x288 with 1 Axes>"
      ]
     },
     "metadata": {
      "needs_background": "light"
     },
     "output_type": "display_data"
    }
   ],
   "source": [
    "df[\"Duration\"].plot(kind = 'hist')"
   ]
  },
  {
   "cell_type": "code",
   "execution_count": 53,
   "id": "0b99cf84",
   "metadata": {},
   "outputs": [
    {
     "data": {
      "text/plain": [
       "<AxesSubplot:>"
      ]
     },
     "execution_count": 53,
     "metadata": {},
     "output_type": "execute_result"
    },
    {
     "data": {
      "image/png": "[encoded data removed]",
      "text/plain": [
       "<Figure size 432x288 with 1 Axes>"
      ]
     },
     "metadata": {
      "needs_background": "light"
     },
     "output_type": "display_data"
    }
   ],
   "source": [
    "df[\"Duration\"].plot(kind = 'bar')"
   ]
  },
  {
   "cell_type": "code",
   "execution_count": 54,
   "id": "a2b52297",
   "metadata": {},
   "outputs": [
    {
     "name": "stdout",
     "output_type": "stream",
     "text": [
      "  lab  val  val1\n",
      "0   A   10    20\n",
      "1   B   30    40\n",
      "2   C   20    10\n"
     ]
    }
   ],
   "source": [
    "df = pd.DataFrame({'lab':['A', 'B', 'C'], 'val':[10, 30, 20],'val1':[20, 40, 10]})\n",
    "print(df)\n"
   ]
  },
  {
   "cell_type": "code",
   "execution_count": 55,
   "id": "ed81aaed",
   "metadata": {},
   "outputs": [
    {
     "data": {
      "text/plain": [
       "<AxesSubplot:>"
      ]
     },
     "execution_count": 55,
     "metadata": {},
     "output_type": "execute_result"
    },
    {
     "data": {
      "image/png": "[encoded data removed]",
      "text/plain": [
       "<Figure size 432x288 with 1 Axes>"
      ]
     },
     "metadata": {
      "needs_background": "light"
     },
     "output_type": "display_data"
    }
   ],
   "source": [
    "df.plot.bar()"
   ]
  },
  {
   "cell_type": "code",
   "execution_count": 56,
   "id": "da307022",
   "metadata": {},
   "outputs": [
    {
     "data": {
      "text/plain": [
       "<AxesSubplot:xlabel='lab'>"
      ]
     },
     "execution_count": 56,
     "metadata": {},
     "output_type": "execute_result"
    },
    {
     "data": {
      "image/png": "[encoded data removed]",
      "text/plain": [
       "<Figure size 432x288 with 1 Axes>"
      ]
     },
     "metadata": {
      "needs_background": "light"
     },
     "output_type": "display_data"
    }
   ],
   "source": [
    "ax = df.plot.bar(x='lab', y='val', rot=45)\n",
    "ax"
   ]
  },
  {
   "cell_type": "code",
   "execution_count": null,
   "id": "b885840f",
   "metadata": {},
   "outputs": [],
   "source": []
  }
 ],
 "metadata": {
  "kernelspec": {
   "display_name": "Python 3 (ipykernel)",
   "language": "python",
   "name": "python3"
  },
  "language_info": {
   "codemirror_mode": {
    "name": "ipython",
    "version": 3
   },
   "file_extension": ".py",
   "mimetype": "text/x-python",
   "name": "python",
   "nbconvert_exporter": "python",
   "pygments_lexer": "ipython3",
   "version": "3.9.7"
  }
 },
 "nbformat": 4,
 "nbformat_minor": 5
}
